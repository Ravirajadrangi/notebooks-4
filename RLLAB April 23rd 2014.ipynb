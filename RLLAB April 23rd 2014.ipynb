{
 "metadata": {
  "name": ""
 },
 "nbformat": 3,
 "nbformat_minor": 0,
 "worksheets": [
  {
   "cells": [
    {
     "cell_type": "markdown",
     "metadata": {
      "slideshow": {
       "slide_type": "slide"
      }
     },
     "source": [
      "<h1 align=center>Subjective localization with options maps</h1>\n",
      "<h2 align=center>Pierre-Luc Bacon</h2>\n",
      "<h2 align=center>in collaboration with Borja Balle and Doina Precup</h2>\n",
      "<h3 align=center>April 23, 2014</h3>\n",
      "<h3 align=center>McGill University</h3>"
     ]
    },
    {
     "cell_type": "markdown",
     "metadata": {
      "slideshow": {
       "slide_type": "slide"
      }
     },
     "source": [
      "# Control under imperfect state information\n",
      "\n",
      "A Partially Observable Markov Decision Process is a tuple $\\langle \\mathcal{X}, \\mathcal{Y}, \\mathcal{A}, T, Z, R \\rangle$, where \n",
      "\n"
     ]
    },
    {
     "cell_type": "markdown",
     "metadata": {
      "slideshow": {
       "slide_type": "fragment"
      }
     },
     "source": [
      " $\\mathcal{X}$ is a set of states"
     ]
    },
    {
     "cell_type": "markdown",
     "metadata": {
      "slideshow": {
       "slide_type": "fragment"
      }
     },
     "source": [
      "$\\mathcal{Y}$ is a set of observations"
     ]
    },
    {
     "cell_type": "markdown",
     "metadata": {
      "slideshow": {
       "slide_type": "fragment"
      }
     },
     "source": [
      " $\\mathcal{A}$ is a set of actions\n"
     ]
    },
    {
     "cell_type": "markdown",
     "metadata": {
      "slideshow": {
       "slide_type": "fragment"
      }
     },
     "source": [
      " $T: \\mathcal{X} \\times \\mathcal{A} \\to \\Delta(\\mathcal{X})$ is a transition kernel \n"
     ]
    },
    {
     "cell_type": "markdown",
     "metadata": {
      "slideshow": {
       "slide_type": "fragment"
      }
     },
     "source": [
      "$Z$ is an observation function $Z: \\mathcal{X} \\times \\mathcal{A} \\to \\Delta(\\mathcal{Y})$"
     ]
    },
    {
     "cell_type": "markdown",
     "metadata": {
      "slideshow": {
       "slide_type": "fragment"
      }
     },
     "source": [
      " $R$ is a reward function $R: \\mathcal{X} \\times \\mathcal{A} \\to \\Delta([0, R_\\text{max}])$"
     ]
    },
    {
     "cell_type": "markdown",
     "metadata": {
      "slideshow": {
       "slide_type": "fragment"
      }
     },
     "source": [
      "The history of a POMDP is form $x_0, y_0, a_0, x_1, y_1, a_1, ..., x_t, y_t, a_t$, but the controller only sees an __information vector__\n",
      "$I_t = (y_0, y_1, ..., y_t, ..., a_0,a_1, ..., a_t)$\n"
     ]
    },
    {
     "cell_type": "markdown",
     "metadata": {
      "slideshow": {
       "slide_type": "slide"
      }
     },
     "source": [
      "In a finite discounted POMDP, we have a discount factor $\\gamma \\in [0, 1)$ and the objective is to maximize\n",
      "$$\\begin{equation}\n",
      "V_\\pi = \\mathbb{E}\\left\\{ \\sum_{t=0}^\\infty \\gamma^t R(X_t, A_t)\\right\\}\n",
      "\\end{equation}$$\n",
      "\n",
      "The objective remains the same as in the perfectly observable setting but our policy is now a function an information vector."
     ]
    },
    {
     "cell_type": "markdown",
     "metadata": {
      "slideshow": {
       "slide_type": "-"
      }
     },
     "source": [
      "$\\pi: \\mathcal{I} \\to \\Delta(\\mathcal{A})$"
     ]
    },
    {
     "cell_type": "markdown",
     "metadata": {
      "slideshow": {
       "slide_type": "slide"
      }
     },
     "source": [
      "The information vector increases with time. What we would truly want is some compact state representation to be used as a substitute: a __sufficient statistics__. "
     ]
    },
    {
     "cell_type": "markdown",
     "metadata": {
      "slideshow": {
       "slide_type": "fragment"
      }
     },
     "source": [
      "A trivial example of a sufficient statistics would be the identity function."
     ]
    },
    {
     "cell_type": "markdown",
     "metadata": {
      "slideshow": {
       "slide_type": "fragment"
      }
     },
     "source": [
      "The conditional probability distribution $\\mathbb{P}\\left\\{ X_{t+1} \\,\\middle|\\, I_t \\right\\}$ is the *de facto* sufficient statistics. It can be generated recursively through a Bayesian update \n",
      "\n",
      "$$\\begin{equation}\n",
      "\\mathbf{p}_{x_{t+1} |\\, I_{t+1}} = \\Phi_t \\left(\\mathbf{p}_{x_t |\\, I_t}, a_t, y_{t+1}\\right)\n",
      "\\end{equation}$$"
     ]
    },
    {
     "cell_type": "markdown",
     "metadata": {
      "slideshow": {
       "slide_type": "slide"
      }
     },
     "source": [
      "# Predictive state representations\n",
      "\n",
      "PSR uses conditional probability distributions over future __tests__ given some __history__ as a sufficient statistics."
     ]
    },
    {
     "cell_type": "markdown",
     "metadata": {},
     "source": [
      "$$\\begin{equation}\n",
      "P: \\left\\{\\mathcal{Y} \\times \\mathcal{A}\\right\\}^* \\to \\Delta( \\left\\{\\mathcal{Y} \\times \\mathcal{A}\\right\\}^* )\n",
      "\\end{equation}$$"
     ]
    },
    {
     "cell_type": "markdown",
     "metadata": {},
     "source": [
      "The same kind of recursive update also exists in this case."
     ]
    },
    {
     "cell_type": "markdown",
     "metadata": {
      "slideshow": {
       "slide_type": "slide"
      }
     },
     "source": [
      "# Options\n",
      "\n",
      "An __option__ is a tuple $\\langle \\mathcal{I}, \\pi, \\mathcal{B} \\rangle$"
     ]
    },
    {
     "cell_type": "markdown",
     "metadata": {
      "slideshow": {
       "slide_type": "fragment"
      }
     },
     "source": [
      "$\\mathcal{I} \\subseteq \\mathcal{X}$ is the __initiation set__ "
     ]
    },
    {
     "cell_type": "markdown",
     "metadata": {
      "slideshow": {
       "slide_type": "fragment"
      }
     },
     "source": [
      "$\\pi: \\mathcal{X} \\to \\Delta(\\mathcal{A})$ is a policy (stochastic in this case)"
     ]
    },
    {
     "cell_type": "markdown",
     "metadata": {
      "slideshow": {
       "slide_type": "fragment"
      }
     },
     "source": [
      "$\\beta$ is a __termination function__ (a probability distribution over $\\mathcal{X}$)"
     ]
    },
    {
     "cell_type": "markdown",
     "metadata": {
      "slideshow": {
       "slide_type": "fragment"
      }
     },
     "source": [
      "We usually have a set of options $\\mathcal{O}$ and we might want to learn a __behavior policy__ $\\pi: \\mathcal{X} \\to \\Delta(\\mathcal{O})$"
     ]
    },
    {
     "cell_type": "markdown",
     "metadata": {
      "slideshow": {
       "slide_type": "slide"
      }
     },
     "source": [
      "# Duration models\n",
      "\n",
      "While potentially more compact than *standard* POMDP, PSRs might still be challenging to learn. Our bet is that a simpler PSR-like sufficient statistics might be "
     ]
    },
    {
     "cell_type": "markdown",
     "metadata": {},
     "source": [
      "$$\\begin{equation}\n",
      "P: \\mathcal{O} \\to \\Delta(\\mathbb{D})\n",
      "\\end{equation}$$\n",
      "\n",
      "where $\\mathcal{O}$ is a set of __options__ and $\\mathbb{D}$ is a set of __durations__ (say $\\mathbb{Z}$)."
     ]
    },
    {
     "cell_type": "markdown",
     "metadata": {},
     "source": [
      "<img src=\"data:image/png;base64,iVBORw0KGgoAAAANSUhEUgAAAQsAAAELCAYAAADOVaNSAAAABmJLR0QA/wD/AP+gvaeTAAAgAElE\n",
      "QVR4nO3deVSUZ5o28AsokEViISibiYqCooIBZZGtqA1NG/pE05A56QSTmYxLZzp2pr8Ek3RPjEmf\n",
      "0fTk9JBzsug5cT6dfJOMHmMnTdqlqigKKEQF2QU3dtEIroiIpKq+P5KqAyh7VT3vcv/+Sjpa72Uf\n",
      "vaz3fp7nfV2OHTtm+eabbyAWly5dglQqhb+/P+sohPDGjBkzrkmqqqqwe/du1lkIIRwWHh7+mMT6\n",
      "LxkZGVi3bh3LPE5x/vx5HD58GLm5uVP+LKPRiObmZrzwwgt2SCYshw8fhlQqhVwuZx2FTEFnZyfe\n",
      "f/99AICtLJYvX47NmzczC+UsDx48wBdffIHs7GzMnDlzSp8lkUjg6ekpiv/fxstiseD111/HgwcP\n",
      "sHfvXvj4+LCORKagtrbWVhaujLM4nYeHB5KTk6HX61lHERxrUVRXVyM/P5+KQmBEVxYAoFKpoNVq\n",
      "WccQFCoK4RNtWWg0GtYxBIOKQhxEWRZRUVG4d+8empubWUfhPYvFgi1btlBRiIAoy8LFxQUKhYJu\n",
      "RabIWhTnzp2johABUZYFQLciU0VFIT6iLQu1Wo2CggKYzWbWUXiHikKcRFsWoaGhmD17NiorK1lH\n",
      "4RUqCvESbVkAdCsyUVQU4ib6sqAh5/hYLBZs3ryZikLERF0Wcrkcp06dwr1791hH4TRrUZw/f56K\n",
      "QsREXRa+vr6Ijo5GSUkJ6yicRUVBrERdFgDdioyGioIMJvqyUKvVVBaPQEVBhhN9WSQkJKC5uRnX\n",
      "rl1jHYUzqCjIo4i+LCQSCVJTU1FQUMA6CidQUZCRiL4sAJpbWFFRkNFQWeCnuYXYN2dRUZCxUFkA\n",
      "iIyMhNlsxvnz51lHYYKKgowHlcXPlEqlKG9FqCjIeFFZ/EyM50QsFgs2bdpERUHGhcriZ2q1GoWF\n",
      "hfjxxx9ZR3EKa1FcuHCBioKMi2tbWxvrDJwQGBiIxx9/HOXl5ayjOBx9oyCT4drd3Q0A0Ov1uHXr\n",
      "FuM4bIlhVWRwUXz//fdUFGTcXGNjYwEAbm5uWLx4MXbt2oUHDx4wjsWG0PdbUFGQqbDNLNLS0lBU\n",
      "VITi4mJERUXh+++/Z5mLCZlMhjNnzuDu3buso9gdFQWZqiEDzoiICOTn5+OTTz7Bm2++CbVajbNn\n",
      "z7LK5nTe3t5YsWIFDAYD6yh2RUVB7OGRqyEqlQpVVVV4+umnIZPJsHXrVty+fdvZ2ZgQ2q0IFQWx\n",
      "lxGXTt3d3bF161Y0NjYC+OlbR15eHkwmk9PCsSCkI+tUFMSextxn4e/vj7y8PBw9ehSHDh1CXFwc\n",
      "iouLnZGNiZUrV6KzsxNXrlxhHWVKqCiIvY17U1ZMTAyKiorw3nvvIScnB5mZmWhpaXFgNDbc3NyQ\n",
      "np7O628XZrOZioLY3YR3cGZmZuLs2bNISUlBQkICtm3bJrjVAz7PLcxms+2sBxUFsadJbff28vJC\n",
      "bm4uzpw5g87OTkRGRmL//v2wWCz2zseEtSz49uuhoiCONKWzIaGhodi/fz8OHTqEzz77DImJiSgr\n",
      "K7NXNmbCw8Mxbdo0Xi0bU1EQR7PLQbL4+HiUlpbi1Vdfxfr165GTk4OrV6/a46OZ4dORdSoK4gx2\n",
      "O3Xq4uKCnJwcXLhwAWFhYVi2bBm2b9+O/v5+e13CqfhyZJ2KgjiL3Y+o+/j4YPv27SgrK8PZs2ex\n",
      "bNkyHDx40N6XcTiVSoXi4mIMDAywjjIiKgriTA57nsXChQtx4MABfP7559ixYwdUKhVqa2sddTm7\n",
      "8/f3x8KFCzk7g6HlUeJsDn/4jVKpRGVlJbKzs7F69Wps2rQJ1mPxXMfVJVRrUVy4cIGKgjiNU56U\n",
      "JZFIsHHjRtTV1cHT0xNLlixBXl4e559KxcW5BRUFYcWpj9WbOXMm8vLyUFRUhKNHjyIqKgpHjx51\n",
      "ZoQJSU1NRV1dHWcO0VFREJaYPINz8eLFOHLkCD788EO8+uqryMzMRFNTE4soo/L09ERCQgL0ej3r\n",
      "KFQUhDmmD+zNzMxEQ0MDVCoV4uPjsXXrVty5c4dlpIdwYW5BRUG4gPnTvT08PLB161bU1NTg/v37\n",
      "WLp0Kfbs2QOz2cw6GgD2R9Zp1YNwBfOysAoJCcHu3btx+PBh7Nu3DwkJCTAajaxj4cknn8SNGzfA\n",
      "4inog4vi73//OxUFYYozZWG1cuVKlJSU4M0338Svf/1rZGdnM/mDauXq6gq5XO70bxdUFIRrOFcW\n",
      "wE9bx7OysnD27FksWbIEsbGx2L59O+7fv88kj7PnFlQUhIs4WRZW3t7e2L59OyorK9HU1ISIiAjs\n",
      "37/f6TkyMjKg0WicMkehoiBcxemysHr88cexf/9+7Nu3Dx999BHkcjmqq6uddv25c+dCKpWipqbG\n",
      "odcxm83YuHEjFQXhJF6UhZVcLkdlZSVefvllrFmzBjk5Obh27ZpTru3oWxFrUVy4cIGKgnASr8oC\n",
      "+GngmJOTg4aGBoSEhCA6Otopb1Fz5NZvKgrCB7wrCyupVIqdO3c67S1qSqUSpaWl6Ovrs+vnUlEQ\n",
      "vuBtWVg56y1qUqkUS5YswYkTJ+z2mVQUhE8krAPYi/Utap9++ilkMhmef/557NixAzNmzLDbNdRq\n",
      "NQ4fPozu7m401Nej2GDA9evXsemf/gl+/v6IXLoU8fHxiIyMHPOzrEVRX1+PY8eOUVEQzuP9N4vB\n",
      "HPUWtevXr+OD99/H1//93/hq/3589/nnQGMjshctwpakJKyQSCC9fBnGr77Cr9auxZzgYLy+dSvq\n",
      "6+sf+XnDi+Kxxx6bUj5CnEEw3ywGs75FbcOGDfjd736Hffv2IS8vD6mpqRP6nL6+Pnycl4eP/vxn\n",
      "PLNyJf5n82bEL1w45s+79MMP2FdUhPSUFKTJZPjLxx/jiSeeAEBFQfhLUN8shouNjZ30W9QqKyux\n",
      "bPFi1Bw7hhPvvYc9r7wyrqIAgAWBgdiRlYWmvDws8/BAfGwsDh06REVBeE3QZWE10beo/dfevXhK\n",
      "rcbnOTn4f7/5DRYEBk7qur5eXngvKwsl776Ld/71XxG7fDnq6uqoKAgviaIsgPG/RW3vF19g+zvv\n",
      "4Ni2bVBHR9vl2guDgmD44x/h0tuLReHhVBSEl0RTFlajvUXNaDTi7dxcHMvNxfK5c+163cAZM1D8\n",
      "3nu4cOYM/v1Pf7LrZxPiDIIccI5HfHw8jEYjvvzyS6xfvx7JyckwFhXhy9/8BotDQx1yzemenvjr\n",
      "669j5R/+gJS0tAkPXAlhSXTfLAazbh2/cOEC2pubsSEpCaqoKIdec/aMGfjs5Zex5Z//mdMvMCJk\n",
      "OFGXhVVLSwtaW1rw1rp1Trne2thYPO7ri//au9cp1yPEHqgsAGz/wx+Qm5mJx7y8nHbNd9etw79/\n",
      "8AFnnjVKyFhEXxbXr1+HRqvFP8rlTr1uYng4ZkybBoPB4NTrEjJZoi+Lo0ePQh4VNeRbxcAUt4c/\n",
      "yo8m00PLtNnx8fjur3+1+7UIcQTRl0WRXg/lsINfMzZswL3+frteJzY3F7XDHjysXLYMhoICu16H\n",
      "EEcRfVnUVlcjZv58JtdePm8ezl28OOWDboQ4g2j3WVi1d3Rg3qxZTK7t6e4OLw8PrFu3Dp6enkwy\n",
      "EDKawe/5FX1Z9PT2wteJqyDDSX19oVAoEOqgjWCETEVbWxuOHz8OgMoCrq6uMDFcvnR1dcXatWsR\n",
      "Hh7OLAMhI6mtrbX9s+hnFjN8fXH73j1m17919y6kUimz6xMyXqIti/v370Or1cJz2jSc7+xkkuFm\n",
      "by8GTCbMYjQzIWQiRFMWFosFFRUV2LVrF9RqNYKCgrBr1y4EhoSgorl5yI99LzsbHhL73qG99tRT\n",
      "CPbzG/K/nWlqgqe7O7Zt2watVot+Oy/XEmJPgi6L1tZW7NmzB9nZ2QgMDMSmTZtw8+ZN5ObmoqOj\n",
      "AxqNBr9/4w1ohj0N/I1f/hISNze7ZnlFqcSsYc+xOFZTA/WaNQCAbdu2wd/fH2q1Grt27UJFRcVD\n",
      "m7gIYUlQA85bt25Bo9FAq9Xa/qZeu3YtsrKy8PHHHyMoKOihn6NSqbDhxRfRefMmQob9ze9IFosF\n",
      "B06exLdHj2L58uUAgK6uLhQWFkKr1eLZZ59FX18fZDIZVCoV1qxZY3uOJyEs8LosHjx4gKKiIls5\n",
      "NDU1QaVSQaVSITc3F2FhYWN+hpeXF/7huefw6fHj+OC555yQ+id/PX0as4ODbUUBALNmzUJWVhay\n",
      "srIAAE1NTbZf27Zt2+Dn52f79anVahqMEqfiVVlYLBacOXPG9gfo9OnTiIuLg0qlwu7du7F8+XJI\n",
      "JjFryH37bcTFxOC1NWsw247vGRmJyWzG9m++wQf/+Z+j/riwsDBs3LgRGzduhMlkQlVVFbRaLfbs\n",
      "2YOXXnoJkZGRtvJIS0uDh4eHw7MT8eJ8WbS3t+PIkSPQarUoKirCnDlzbN8cEhMTMX369ClfY+7c\n",
      "ufjHV17BG199hX2bN9sh9eg+02gw+4knkJmZOe6f4+bmhhUrVmDFihXIzc3FvXv3UFpaavvWce7c\n",
      "OSQmJtrKIzY2Fi4uLg78VRCx4VxZ3L59G8ePH7d9e+jr60NmZiaysrKQl5eH4OBgh1z3j+++i6SE\n",
      "BHxy/DhezchwyDUAoLatDX/67jsUl5ZO6XO8vb1txQAAP/zwg+2WbN26dRgYGEBqaipUKhXWrl1L\n",
      "O0TJlDEvi4GBARgMBls5DP4b8sCBA4iJiYGrq+MXbXx8fPBtfj6SEhIQHhiIjEGzBHtp6erC0//x\n",
      "H/jk88+xcJzvIBmvwMDAEecdb775Jvz9/W3lsmbNGvj6+tr1+kT4mJRFRUWF7TfyqVOnEB4eDpVK\n",
      "hZ07dyI5ORlejM5qzJs3D18fPIhnn3kG/3fTJqyNjbXbZ9e3t+MXH36I//P221i/fr3dPnckg+cd\n",
      "P/74I6qrq23zjg0bNmDJkiW28khPT5/UrIeIi1N+h3R2diI/Px9arRbFxcXw8vKCWq3Gxo0b8dVX\n",
      "XyEgIMAZMcYlLS0N3+bn49lnnsFr7e3I/eUv4TrFe/9DJ09iy969+PCjj/DSyy/bKen4SSSSIfOO\n",
      "u3fvoqyszDbvaGlpgUKhsK2yzGd0ZJ9wm0PKoqenB0ePHrV9e7h16xaUSqXt28N4ljRZSkpKQkVV\n",
      "FV564QUceOcd7HzuOayexG1JTWsr3j54EC23b+OoVotYO35TmYrp06cPmXdcvXoVxcXF0Gq12LFj\n",
      "B6ZNm2b770qlEjNnzmScmHCBXcrCbDajsrISf/vb35Cfn89s7mBPISEhOKbT4csvv8S//Nu/wfd/\n",
      "/xevyGRYn5CAoFH2N/T09eFIVRX2lZSgqq0Nb73zDjZv2cLpr/lBQUGPnHccPHgQGzduxIIFC2zl\n",
      "kZqaimnTpjFOTFhw2bVrlyU3NxdvvPEGPvzww3H/xObmZttuycLCQjzxxBO231As5w6OYDab8cIL\n",
      "L+BcfT06r1yB1Nsb4cHBmCOV4jFvb9zr70fnrVs4f+UKLnV2QiWXI+v557F+/Xp4e3uzjj8lg+cd\n",
      "1hlTfHw8LdGKRG1tLaKjoxEeHn5/3H/d3bhxAzqdzvabxmw2IyMjA1lZWfj00085NXewN1dXV7S0\n",
      "tODPf/kLFAoFLl26hLNnz6K9vR09PT0I8fJCanAw5s2bB6VSif85eBA+Pj6sY9vF8HlHT08PCgsL\n",
      "kZ+fj+zsbPT09CA9PR0qlQqrV6/GXDu/9pFwx4hlcf/+fZSUlNjKobW1FXK5fEJbqYXi9u3bqKur\n",
      "Q3JyMgBgwYIFWLBgwSN/bExMDIqLi7Hm5wNiQuPr64vMzEzbhrLBS7RvvfUWpFIpbUkXqCFlMXhJ\n",
      "s6KiAitWrLBtpX7yySfhZueTmHyh1+uxatWqcd2rq1QqaLVawZbFcIOXaK2zK+sS7csvv4zFixfT\n",
      "lnSBsJVFf38/XnzxRaSnp2PLli2Qy+Xwc+IpTC7TarW2lYOxqFQqbHbClnEucnV1HXLL0tfXB6PR\n",
      "aFuiPX/+PBISEmjewVO2spg2bRrODnuuA/mJVqvF119/Pa4fGxcXh7a2Nly9evWRR+LFxMvLa8gS\n",
      "7fAj+Pfv30daWhpUKhV+8YtfYM6cOYwTk9Hwaz2Tgba2Nty8eXPIUfLRSCQSpKeno4BeHvQQ6xH8\n",
      "3bt3o6WlBaWlpbbbtujoaCxYsACbNm3CwYMHcefOHdZxyTBUFmPQarVQKpUT+rps/QNARmeddxw4\n",
      "cABdXV04cOAAwsLCsGfPHoSEhGDlypW2Rw4ODAywjit6VBZjmMi8wkqtVtvetUDGx3oEPzc3FxqN\n",
      "BteuXcPOnTsB/PTIwYCAANsjB+vr6xmnFSfubivkALPZDI1GY/tNO14RERFwd3dHY2MjFi9e7KB0\n",
      "wjb8CP61a9dsp5OfeuopuLu72/67QqGAv78/48TCR98sRlFTU4OZM2dO6tmXCoWCbkXsaPbs2bZ5\n",
      "R1tbGzQaDVasWIGDBw8iIiJiyC3L/fv3WccVJCqLUWi1WqjV6kn9XJVKBY1GY+dExGrwvOPatWvY\n",
      "vXs3/Pz8sGvXLgQFBQ15SrqZ4RvnhITKYhQajWbC8wortVoNg8FAgzknGD7vuHz5MnJzc3Hz5k1s\n",
      "2rQJQUFByM7Oxp49e9Da2so6Lm9RWYygr68PpaWlkMvlk/r5AQEBmD9/Pk6fPm3nZGQsPj4+tsch\n",
      "lJeXo6amBllZWaioqEBycvKQJdpbt26xjssbVBYjOHHiBKKiojBjCk/7VqvVdCvCAdYj+Lt377a9\n",
      "XMo67wgLCxsy73jw4AHruJxFZTGCySyZDkf7LbhptHnH7Nmz6a1wI6CyGMFU5hVWaWlpqK6upt2I\n",
      "HGY9gm+dd3R0dNjmHTk5OQgODrbNOzo6OljHZYrK4hG6u7tx/vx5JCYmTulzPD09ERcXB4PBYKdk\n",
      "xNGsjxzcuXMn6uvrh2xJf/LJJ0W9JZ3K4hH0ej1SU1PtcpyabkX4bfgty+At6aGhoaLakk5l8Qj2\n",
      "mFdYqdVqKguBsB7BH8+W9IqKCsZp7Y+2ez+CVqvFa6+9ZpfPio2NRVdXFzo6OugItsAMP4Lf3d0N\n",
      "vV4PrVaLX/3qV+jv70dKSgqefvpprF27lvdb0umbxTBNTU3o7+/H0qVL7fJ5rq6uSE9Ph06ns8vn\n",
      "Ee4KCAiwLdE2NzejpKQEKpUK+fn5WLRoEe+3pFNZDKPRaKBQKOz6mTS3EKfB844ffvhhyBJtcHAw\n",
      "77akU1kMM5XzICOxnhOhNXvxGmtL+uAl2paWFtZxH4nKYhCTyQSdTme34aZVWFgYfHx8UFdXZ9fP\n",
      "JfxlPYJv3ZJeW1tr25Iuk8mGLNHevHmTdVwAVBZDnDlzBiEhIQgODrb7Z9OqCBnN4CP4ra2tQ7ak\n",
      "L1y4cMi8o7+/n0lGKotBHHELYkVzCzIREzmC76zbWyqLQey5v2I4pVKJkpISZn8rEP4aPu8YvCV9\n",
      "+Lyjvb3dYTlon8XPent7cerUKchkMod8vp+fHxYtWoSysjKHXYOIg/UIvvUvtqtXr6K4uBharRY7\n",
      "duzAtGnTbP89IyNjSienB6NvFj8rKSlBTEwMpk+f7rBr0K0IcYTRjuDPnz/fblvSqSx+5sh5hRU9\n",
      "ao84w2jzjsDAwElvSaey+Jk9jqSPJSUlBQ0NDZxZCiPCN/wIfltb25B5R0hIiG3e0dnZOepnUVng\n",
      "p3u+1tZWxMXFOfQ6Hh4eWLVqFQoLCx16HUJGMvgIfnl5OSoqKpCVlYWSkhLbW+G2bt36yC3pVBYA\n",
      "DAYD0tLSIJE4ft5LcwvCJcHBwcjKysL+/ftx9epV7Nu3D35+fnj33XcREhKC3/72t7YfS2UBxy6Z\n",
      "DkfP5SRcJZFIkJKSgu3bt8NoNKKlpQXPPvus7b9TWQA4cuQIVq9e7ZRrRUdHo6enB83NzU65HiGT\n",
      "9dhjjyE9Pd3276Ivi3PnzsHd3R0RERFOuZ6LiwvkcjkdWSe8I/qycMSR9LHQ3ILwkejLwpnzCquM\n",
      "jAzodDpePMOAECtRl8XAwAAKCwsdvhlruDlz5sDf3x/V1dVOvS4hUyHqsigvL8f8+fMREBDg9GvT\n",
      "qgjhG1GXhTN2bY6E5haEb0RdFs44DzIShUKBsrIy9PX1Mbk+IRMl2rK4c+cOqqqqkJaWxuT6vr6+\n",
      "WLZsGYxGI5PrEzJRoi2LoqIixMXFwdPTk1kGetQe4RPRlgWLJdPhaG5B+ES0ZaHRaJjNK6xWrVqF\n",
      "S5cuoauri2kOQsZDlGXR0dGBrq4uxMbGMs1hPbij1+uZ5iBkPERZFgUFBUhPT4erK/tfPt2KEL5g\n",
      "/6eFAS7MK6xUKhWOHz/OOgYhYxJdWVgsFqabsYZbunQpTCYTLl68yDoKIaMSXVnU19fD29sbYWFh\n",
      "rKPYKBQKuhUhnCe6suDCKshw9NRvwgeiKwsuzSus1Go19Ho9TCYT6yiEjEhUZdHf34+SkhIolUrW\n",
      "UYYICgpCaGjohN/jQIgziaosTp48iUWLFsHPz491lIfQrQjhOlGVBRdvQazonAjhOlGVBZeWTIeT\n",
      "yWQoLy9Hb28v6yiEPJJoyuLmzZs4e/YsUlJSWEd5JB8fH8TGxqK4uJh1FEIeSTRlUVhYiFWrVsHD\n",
      "w4N1lBHR3IJwmWjKgsvzCiuaWxAuE1VZcG0z1nBxcXHo6OjAlStXWEch5CGiKIuWlhbcuXMH0dHR\n",
      "rKOMys3NDWlpaSgoKGAdhZCHiKIsdDod5HI5XFxcWEcZE92KEK4SRVnwYV5hRUNOwlWCLwuz2Qyt\n",
      "VouMjAzWUcYlIiIC7u7uaGxsZB2FkCEEXxbV1dXw9/fHnDlzWEcZN6VSSd8uCOcIviz4sAoyHD1q\n",
      "j3CR4MuCy1u8R6JSqWAwGDAwMMA6CiE2gi6Lvr4+lJWVQaFQsI4yIQEBAQgLC8OpU6dYRyHERtBl\n",
      "UVpaimXLlsHX15d1lAmjWxHCNYIuCz7OK6xoCZVwjaDLgo/zCqu0tDTU1NTgzp07rKMQAkDAZdHd\n",
      "3Y1Lly5h1apVrKNMiqenJ+Lj42EwGFhHIQSAgMtCr9cjJSUFEomEdZRJo7kF4RLBlgWfb0Gs1Go1\n",
      "zS0IZwi2LI4fP877soiJiUF3dzc6OjpYRyFEmGVx6dIlmEwmLF26lHWUKXF1dUV6ejp0Oh3rKIQI\n",
      "syw0Gg3vNmKNhJZQCVcIsiz4dCR9LBkZGdBqtbBYLKyjEJETXFmYTCYUFBTwdjPWcPPmzcP06dNR\n",
      "V1fHOgoROcGVRUVFBUJDQxEUFMQ6it3QqgjhAsGVhZBuQaxovwXhAkGWhVBuQayUSiWMRiP6+/tZ\n",
      "RyEiJqiy6O3tRXl5OWQyGesodiWVSrFo0SKcOHGCdRQiYoIqi+LiYsTExMDHx4d1FLujp34T1gRV\n",
      "FkKcV1jR3IKwJqiy0Gg0gptXWCUnJ6OhoQE3btxgHYWIlGDK4urVq+jo6EBcXBzrKA7h4eGBpKQk\n",
      "FBYWso5CREowZVFQUIC0tDS4ubmxjuIwdCtCWBJMWQhxyXQ4OidCWBJMWQjhSPpYoqOjcffuXTQ3\n",
      "N7OOQkRIEGXR2NgId3d3REREsI7iUC4uLlAoFHRknTAhiLLQaDRQKpWsYzgFzS0IK4IoCyHvrxgu\n",
      "IyMDOp0OZrOZdRQiMrwvi4GBARgMBtGURWhoKAICAlBVVcU6ChEZ3pfF6dOnERYWhoCAANZRnIZW\n",
      "RQgLvC8LITzFe6JobkFY4H1ZiGleYaVQKHDy5En09fWxjkJEhNdlcefOHVRXVyMtLY11FKfy9fVF\n",
      "VFQUjEYj6yhERHhdFgaDAfHx8fD09GQdxenoyDpxNl6XhRhvQaxoyEmcjddlIeQj6WNJTExEU1MT\n",
      "urq6WEchIsHbsujo6EB3dzdiYmJYR2FCIpEgJSUFBQUFrKMQkeBtWeh0OqSnp8PVlbe/hCmjJVTi\n",
      "TLz9kybmeYUVvU+EOBMvy8JisUCj0SAjI4N1FKaWLFkCk8mEixcvso5CRICXZVFXV4fp06dj3rx5\n",
      "rKMwp1Qq6dsFcQpeloUYnoo1XjS3IM7Cy7IQ43mQkajVauj1ephMJtZRiMDxriz6+/thNBpF87Cb\n",
      "sQQGBiI0NBTl5eWsoxCB411ZlJWVYdGiRZBKpayjcAZt/SbOwLuyoHnFw2huQZyBd2VB84qHyWQy\n",
      "VFRU4O7du6yjEAHjVVncuHEDDQ0NSE5OZh2FU3x8fBAbG4vi4mLWUYiA8aosCgsLkZSUBA8PD9ZR\n",
      "OIduRYij8aosaIv3yOjIOnE0KguBiIuLw+XLl3HlyhXWUYhA8aYsmpub0dPTg+joaNZROMnNzQ0y\n",
      "mYyOrBOH4U1Z6HQ6KBQKuLi4sI7CWTS3II7Em7KgW5Cx0ZF14ki8KAuz2QydTif6I+ljCQ8Ph7u7\n",
      "OxoaGlhHIQLEi7KoqqpCQEAAQkNDWUfhPDqyThyFF2VBtyDjR+dEiKNQWQiMSqVCUVERBgYGWEch\n",
      "AsP5sujr60NZWRkUCgXrKLzg7++PsLAwnDp1inUUIjCcLwuj0YioqCj4+vqyjsIbtCpCHIHzZUFH\n",
      "0ieO9lsQR+B8WdCR9IlLTU1FTU0Nbt++zToKERBOl0VXVxeampqQmJjIOgqveHp6Ij4+HgaDgXUU\n",
      "IiCcLgu9Xo+UlBRIJBLWUXiHllCJvXG6LMT84uOporkFsTfOlwXNKyYnJiYG3d3daG9vZx2FCARn\n",
      "y+LixYswmUxYsmQJ6yi85OrqCrlcDp1OxzoKEQjOloVGo6F3g0wR3YoQe+JsWdAW76nLyMiAVquF\n",
      "xWJhHYUIACfLwmQyQa/X03BziubOnQtfX1/U1tayjkIEgJNlUV5ejtDQUAQGBrKOwnt0K0LshZNl\n",
      "QVu87Yee+k3shbNlQfMK+1AqlTAajejv72cdhfAc58ri7t27qKiogEwmYx1FEKRSKSIjI3HixAnW\n",
      "UQjPca4siouLERsbCx8fH9ZRBIPmFsQeOFcWdAtif/R8C2IPnCsLOg9if0lJSWhsbMSNGzdYRyE8\n",
      "xqmyuHLlCi5fvoyVK1eyjiIoHh4eSEpKQmFhIesohMc4VRYFBQWQyWRwc3jS6ikAAAK8SURBVHNj\n",
      "HUVwaAmVTBWnyoLmFY5Dz7cgU8WpsqB5heNERUWht7cXzc3NrKMQnuJMWTQ0NMDd3R3h4eGsowiS\n",
      "i4sLFAoFfbsgk8aZsqAj6Y5H+y3IVHCmLOg8iOOp1WrodDqYzWbWUQgPcaIsBgYGUFRURMNNBwsN\n",
      "DcWsWbNQWVnJOgrhIU6UxalTpxAWFgZ/f3/WUQSPVkXIZHGiLGgVxHlobkEmixNlQfsrnEcul+Pk\n",
      "yZPo6+tjHYXwDPOyuH37NmpqapCamso6iij4+voiOjoaJSUlrKMQnmFeFgaDAQkJCfD09GQdRTTo\n",
      "VoRMBvOyoFsQ56NzImQymJcFvXXM+RITE9Hc3Iyuri7WUQiPMC2L9vZ2XL9+HTExMSxjiI5EIkFq\n",
      "aioKCgpYRyE8wrQsdDod5HI5XF2Zf8ERHZpbkIli+qeU5hXs0KP2yEQxKwuLxQKtVouMjAxWEUQt\n",
      "MjISJpMJFy5cYB2F8ASzsqitrYWvry/mzp3LKoLoKZVK+nZBxo1ZWdAtCHs0tyATwawsaMmUPbVa\n",
      "jcLCQphMJtZRCA8wKYv+/n4YjUZ62A1jgYGBmDNnDsrLy1lHITzApCxOnDiByMhISKVSFpcng9Cq\n",
      "CBkvJmVBT8XiDppbkPFiUhY0r+AOmUyGM2fO4O7du6yjEI5zelncuHEDjY2NSEpKcvalySN4e3sj\n",
      "NjYWRUVFrKMQjnN6Wej1eiQlJcHDw8PZlyYjoFsRMh5OLwvaX8E99FxOMh5MyoKGm9yycuVKXL58\n",
      "GVeuXGEdhXCYU8uiubkZvb29iIqKcuZlyRjc3NyQnp4OnU7HOgrhMIn1Hy5evIhvv/3WoRfr7+/H\n",
      "73//e3z33XcOvQ6ZuKeeegoSicThvwcIv7S2ttr+2VYWhw8fxuHDh5kEIoRwn0QqlZ5OSUl5nHUQ\n",
      "Qgh3+fn5/fD/AQmaGT/4bA57AAAAAElFTkSuQmCC\">"
     ]
    },
    {
     "cell_type": "markdown",
     "metadata": {
      "slideshow": {
       "slide_type": "slide"
      }
     },
     "source": [
      "<h3 align=\"center\">Proofs and experiments are yet to come...</h3> \n",
      "\n",
      "<h2 align=\"center\">But we known how to learn these distributions !</h2>"
     ]
    },
    {
     "cell_type": "markdown",
     "metadata": {
      "slideshow": {
       "slide_type": "slide"
      }
     },
     "source": [
      "## Phase-Type distribution\n",
      "\n",
      "<img src=\"data:image/png;base64,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\n",
      "\" alt=\"Red dot\">\n"
     ]
    },
    {
     "cell_type": "markdown",
     "metadata": {
      "slideshow": {
       "slide_type": "slide"
      }
     },
     "source": [
      "A discrete phase-type distribution is determined by an initial probability vector $\\mathbf{\\mu}$ and a transition matrix $\\mathbf{T}$ between the transient states. We recover the full transition matrix $\\mathbf{Q}$ as follow\n",
      "\n",
      "$$\\begin{equation}\n",
      "\\mathbf{Q} = \\begin{bmatrix} \\mathbf{T} & \\mathbf{t_0} \\\\ \\mathbf{0} & 1 \\end{bmatrix}\n",
      "\\end{equation}$$\n",
      "\n",
      "The vector $\\mathbf{t_0}$ contains the absorption probabilies and can be obtained from $\\mathbf{T} + \\mathbf{T_0} = \\mathbf{1}$."
     ]
    },
    {
     "cell_type": "markdown",
     "metadata": {},
     "source": [
      "## Evaluation\n",
      "\n",
      "A weighted automaton $A$ computes a function $f_A: \\sigma^* \\to \\mathbb{R}$ through the application of the initial, transition and termination components\n",
      "\n",
      "$$\\begin{align}\n",
      "f_A(x_1, ..., x_t) = \\mathbf{\\alpha}_0^\\top \\mathbf{A}_{x_1} ... \\mathbf{A}_{x_t} \\mathbf{\\alpha}_\\infty\n",
      "\\end{align}$$\n",
      "\n",
      "Our model for the phase-type distribution can now used to infer the probability of a given duration $\\tau$ by computing $\\tau$ matrix-vector multiplications. \n",
      "$$\\begin{align}\n",
      "f(\\tau) = \\mathbf{\\alpha}_0^\\top \\mathbf{A}_{\\sigma}^\\tau \\mathbf{\\alpha}_\\infty\n",
      "\\end{align}$$\n",
      "\n",
      "The time complexity of a time query is therefore a function of $\\tau$. "
     ]
    },
    {
     "cell_type": "markdown",
     "metadata": {
      "slideshow": {
       "slide_type": "slide"
      }
     },
     "source": [
      "## Spectral Learning\n",
      "\n",
      "A WFA $A = \\langle \\mathbf{\\alpha}_0, \\mathbf{\\alpha}_\\infty, {\\mathbf{A}_\\sigma}\\rangle$ for a function $f$ and $n$ states induces a factorization of $\\mathbf{H}_f = \\mathbf{P} \\mathbf{S}$ and its sub-blocks $\\mathbf{H}_\\mathcal{B}$ for an arbitrary basis $\\mathcal{B}=(\\mathcal{P}, \\mathcal{S})$. \n",
      "\n",
      "A rank factorization can be obtained through the compact SVD decomposition $\\mathbf{H}_\\lambda = \\mathbf{U}\\mathbf{\\Lambda}\\mathbf{V}^\\top$ with $\\mathbf{U} \\in \\mathbb{R}^{p \\times r}$, $\\mathbf{\\Lambda} \\in \\mathbb{R}^{r \\times r}$ and $\\mathbf{V} \\in \\mathbb{R}^{s \\times r}$. \n",
      "\n",
      "$$\\begin{align}\n",
      "\\mathbf{\\alpha}_0^\\top &= \\mathbf{h}_{\\lambda, \\mathcal{S}}^\\top \\mathbf{V}\\\\\n",
      "\\mathbf{\\alpha}_\\infty &= \\mathbf{\\Lambda^{-1}}\\mathbf{U}^\\top\\mathbf{h}_{\\mathcal{P},\\lambda} \\\\\n",
      "\\mathbf{A}_\\sigma &= \\mathbf{\\Lambda^{-1}}\\mathbf{U}^\\top \\mathbf{H_\\sigma}\\mathbf{V}\n",
      "\\end{align}$$"
     ]
    },
    {
     "cell_type": "heading",
     "level": 2,
     "metadata": {
      "slideshow": {
       "slide_type": "slide"
      }
     },
     "source": [
      "Hankel matrix of a known system"
     ]
    },
    {
     "cell_type": "code",
     "collapsed": false,
     "input": [
      "from scipy.linalg import hankel\n",
      "\n",
      "alphainf = np.array([0, 0, 0, 1])\n",
      "alpha0 = np.array([0.5, 0.5, 0, 0])\n",
      "A = np.array([[0, 0.5, 0.5, 0], [0, 0.9, 0, 0.1],\n",
      "              [0.6, 0, 0, 0.4], [0, 0, 0, 0]])\n",
      "\n",
      "def evaluate(alpha0, A, alphainf, t=1):\n",
      "    return np.dot(alpha0, np.dot(np.linalg.matrix_power(A, t), alphainf))\n",
      "\n",
      "T = 100\n",
      "h = np.array([evaluate(alpha0, A, alphainf, t) for t in range(T)])\n",
      "H = hankel(h)\n",
      "H = H[:T/2, :T/2]\n",
      "print H[:5, :5]"
     ],
     "language": "python",
     "metadata": {
      "slideshow": {
       "slide_type": "-"
      }
     },
     "outputs": [
      {
       "output_type": "stream",
       "stream": "stdout",
       "text": [
        "[[ 0.          0.05        0.17        0.063       0.0942    ]\n",
        " [ 0.05        0.17        0.063       0.0942      0.05778   ]\n",
        " [ 0.17        0.063       0.0942      0.05778     0.063252  ]\n",
        " [ 0.063       0.0942      0.05778     0.063252    0.0488268 ]\n",
        " [ 0.0942      0.05778     0.063252    0.0488268   0.04731912]]\n"
       ]
      }
     ],
     "prompt_number": 1
    },
    {
     "cell_type": "heading",
     "level": 2,
     "metadata": {
      "slideshow": {
       "slide_type": "slide"
      }
     },
     "source": [
      "Recovering the automaton"
     ]
    },
    {
     "cell_type": "code",
     "collapsed": false,
     "input": [
      "from numpy.linalg import svd, inv\n",
      "from scipy.linalg import diagsvd\n",
      "\n",
      "def spectral_wfa(H, k=2):\n",
      "    Hsigma = H[1:,:]\n",
      "    H = H[:-1,:]\n",
      "    U, D, V = svd(H, full_matrices=False)\n",
      "    U, D, V = U[:,:k], diagsvd(D[:k], k, k), V[:k,:]\n",
      "    Dinv_ut = inv(D).dot(U.T)\n",
      "\n",
      "    beta0 = np.dot(H[0,:], V.T)\n",
      "    betainf = Dinv_ut.dot(H[:,0])\n",
      "    betasigma = np.dot(Dinv_ut, np.dot(Hsigma, V.T))\n",
      "    \n",
      "    return (beta0, betasigma, betainf)\n",
      "\n",
      "beta0, betasigma, betainf = spectral_wfa(H, k=4)\n",
      "pdist_hat = np.array([evaluate(beta0, betasigma, betainf, t) \n",
      "                                for t in range(T)])\n",
      "print 'Recovered: ', pdist_hat[:10]\n",
      "print 'Original: ', h[:10]\n",
      "print 'L1 error: ', np.linalg.norm(h - pdist_hat, ord=1)"
     ],
     "language": "python",
     "metadata": {
      "slideshow": {
       "slide_type": "-"
      }
     },
     "outputs": [
      {
       "output_type": "stream",
       "stream": "stdout",
       "text": [
        "Recovered:  [ -8.36461976e-17   5.00000000e-02   1.70000000e-01   6.30000000e-02\n",
        "   9.42000000e-02   5.77800000e-02   6.32520000e-02   4.88268000e-02\n",
        "   4.73191200e-02   4.01572080e-02]\n",
        "Original:  [ 0.          0.05        0.17        0.063       0.0942      0.05778\n",
        "  0.063252    0.0488268   0.04731912  0.04015721]\n",
        "L1 error:  5.30906232944e-15\n"
       ]
      }
     ],
     "prompt_number": 2
    },
    {
     "cell_type": "markdown",
     "metadata": {
      "slideshow": {
       "slide_type": "slide"
      }
     },
     "source": [
      "# Learning from samples\n",
      "\n",
      "We will try to characterize the approximation error with respect to the $L_1$ distance as a function of the number of samples. "
     ]
    },
    {
     "cell_type": "code",
     "collapsed": false,
     "input": [
      "from scipy import stats\n",
      "from itertools import *\n",
      "from functools import partial\n",
      "import matplotlib.pyplot as plt\n",
      "\n",
      "def sample_wfa(alpha0, A, alphainf):\n",
      "    init_dist = stats.rv_discrete(values=(range(len(alpha0)), alpha0))\n",
      "    P = [stats.rv_discrete(values=(range(len(d)), d)) for d in A]\n",
      "    last_state = len(alpha0)-1\n",
      "    \n",
      "    x = init_dist.rvs()\n",
      "    while x is not last_state:\n",
      "        yield x\n",
      "        x = P[x].rvs()\n",
      "        \n",
      "def empirical_freq(values):\n",
      "    f = np.zeros(np.max(values)+1)\n",
      "    for x in values:\n",
      "        f[x] += 1\n",
      "    return f/float(len(values))\n",
      "\n",
      "def empirical_hankel(durations):\n",
      "    frequencies = empirical_freq(durations)\n",
      "    s = len(frequencies)\n",
      "    return hankel(frequencies)[:s/2, :s/2]"
     ],
     "language": "python",
     "metadata": {},
     "outputs": [],
     "prompt_number": 3
    },
    {
     "cell_type": "markdown",
     "metadata": {
      "slideshow": {
       "slide_type": "slide"
      }
     },
     "source": [
      "# Recovering the automaton from samples"
     ]
    },
    {
     "cell_type": "code",
     "collapsed": false,
     "input": [
      "lb, ub, inc = 10, 4001, 10\n",
      "X = range(lb, ub, inc)\n",
      "errors, durations = [], []\n",
      "for n in X:\n",
      "    durations.extend([len(list(sample_wfa(alpha0, A, alphainf))) for i in range(inc)])\n",
      "    \n",
      "    H = empirical_hankel(durations)\n",
      "    automaton = spectral_wfa(H, k=4)\n",
      "    \n",
      "    pdist_hat = np.array([partial(evaluate, *automaton)(i) for i in range(100)])\n",
      "    errors.append(np.linalg.norm(h - pdist_hat, ord=1))\n",
      "    \n",
      "    if not n%1000:\n",
      "        print len(durations), errors[-1]"
     ],
     "language": "python",
     "metadata": {},
     "outputs": [
      {
       "output_type": "stream",
       "stream": "stdout",
       "text": [
        "1000 0.06079182736\n",
        "2000"
       ]
      },
      {
       "output_type": "stream",
       "stream": "stdout",
       "text": [
        " 0.05529009822\n",
        "3000"
       ]
      },
      {
       "output_type": "stream",
       "stream": "stdout",
       "text": [
        " 0.0592218955868\n",
        "4000"
       ]
      },
      {
       "output_type": "stream",
       "stream": "stdout",
       "text": [
        " 0.0328719987897\n"
       ]
      }
     ],
     "prompt_number": 4
    },
    {
     "cell_type": "code",
     "collapsed": false,
     "input": [
      "plt.plot(X, errors)\n",
      "plt.show()"
     ],
     "language": "python",
     "metadata": {
      "slideshow": {
       "slide_type": "slide"
      }
     },
     "outputs": [
      {
       "metadata": {},
       "output_type": "display_data",
       "png": "[encoded data removed]",
       "text": [
        "<matplotlib.figure.Figure at 0x105b10310>"
       ]
      }
     ],
     "prompt_number": 5
    },
    {
     "cell_type": "markdown",
     "metadata": {
      "slideshow": {
       "slide_type": "slide"
      }
     },
     "source": [
      "# Fast Hankel matrix-vector multiplications\n",
      "## An excursion in frequency space\n",
      "\n",
      "Let $\\mathbf{H}$ be a Hankel matrix"
     ]
    },
    {
     "cell_type": "code",
     "collapsed": false,
     "input": [
      "from scipy.linalg import hankel, circulant\n",
      "H = hankel([1, 2, 3], [3, 4, 5])\n",
      "print H"
     ],
     "language": "python",
     "metadata": {},
     "outputs": [
      {
       "output_type": "stream",
       "stream": "stdout",
       "text": [
        "[[1 2 3]\n",
        " [2 3 4]\n",
        " [3 4 5]]\n"
       ]
      }
     ],
     "prompt_number": 6
    },
    {
     "cell_type": "markdown",
     "metadata": {},
     "source": [
      "and $\\mathbf{w}$ some arbitrary vector"
     ]
    },
    {
     "cell_type": "code",
     "collapsed": false,
     "input": [
      "w = np.random.randint(10, size=3)\n",
      "print w"
     ],
     "language": "python",
     "metadata": {},
     "outputs": [
      {
       "output_type": "stream",
       "stream": "stdout",
       "text": [
        "[2 0 8]\n"
       ]
      }
     ],
     "prompt_number": 7
    },
    {
     "cell_type": "markdown",
     "metadata": {
      "slideshow": {
       "slide_type": "slide"
      }
     },
     "source": [
      "If we want to compute\n",
      "$$\\begin{align}\n",
      "\\mathbf{p} &= \\mathbf{H}\\mathbf{w} \\\\\n",
      "\\end{align}$$\n",
      "\n",
      "we can form $\\widehat{\\mathbf{w}}$ of size $2n - 1$ as follow\n",
      "$$\\begin{align}\n",
      "\\widehat{\\mathbf{w}} = [w_n, w_{n-1}, ..., w_1, 0, ..., 0]^\\top\n",
      "\\end{align}$$"
     ]
    },
    {
     "cell_type": "code",
     "collapsed": false,
     "input": [
      "n = H.shape[0]\n",
      "w_hat = np.zeros((2*n-1,))\n",
      "w_hat[:n] = w[::-1]\n",
      "print w_hat"
     ],
     "language": "python",
     "metadata": {},
     "outputs": [
      {
       "output_type": "stream",
       "stream": "stdout",
       "text": [
        "[ 8.  0.  2.  0.  0.]\n"
       ]
      }
     ],
     "prompt_number": 8
    },
    {
     "cell_type": "markdown",
     "metadata": {
      "slideshow": {
       "slide_type": "-"
      }
     },
     "source": [
      "We can then recover the product by embeddding the Hankel matrix into a __circulant__ matrix $\\mathbf{C}$ and computing\n",
      "$$\\begin{align}\n",
      "\\mathbf{y} = C(\\widehat{\\mathbf{c}})\\widehat{\\mathbf{w}}\n",
      "\\end{align}$$"
     ]
    },
    {
     "cell_type": "code",
     "collapsed": false,
     "input": [
      "def hankel_embedding(H):\n",
      "    c_hat = np.concatenate((H[-1,:], H[:-1,0]))\n",
      "    return (c_hat, circulant(c_hat))\n",
      "\n",
      "c_hat, C = hankel_embedding(H)\n",
      "y = C.dot(w_hat)[:n]\n",
      "print y\n",
      "print np.allclose(y, H.dot(w))"
     ],
     "language": "python",
     "metadata": {},
     "outputs": [
      {
       "output_type": "stream",
       "stream": "stdout",
       "text": [
        "[ 26.  36.  46.]\n",
        "True\n"
       ]
      }
     ],
     "prompt_number": 9
    },
    {
     "cell_type": "markdown",
     "metadata": {
      "slideshow": {
       "slide_type": "slide"
      }
     },
     "source": [
      "# Now hang on to your hat...\n",
      "\n",
      "It turns out that we can perform the same matrix-vector multiplication as follow\n",
      "\n",
      "$$\\begin{align}\n",
      "C(\\widehat{\\mathbf{c}})\\widehat{\\mathbf{w}} = \\mathcal{F}^{-1}\\left(\\mathcal{F}(\\widehat{\\mathbf{c}}) \\odot \\mathcal{F}(\\widehat{\\mathbf{w}})\\right)\n",
      "\\end{align}$$\n",
      "\n",
      "where $\\odot$ denotes component-wise multiplication."
     ]
    },
    {
     "cell_type": "code",
     "collapsed": false,
     "input": [
      "from numpy.fft import fft\n",
      "\n",
      "y = ifft(fft(c_hat)*fft(w_hat))\n",
      "\n",
      "print y[:n].real\n",
      "print np.allclose(y[:n].real, H.dot(w))"
     ],
     "language": "python",
     "metadata": {},
     "outputs": [
      {
       "output_type": "stream",
       "stream": "stdout",
       "text": [
        "[ 26.  36.  46.]\n",
        "True\n"
       ]
      }
     ],
     "prompt_number": 10
    },
    {
     "cell_type": "markdown",
     "metadata": {},
     "source": [
      "And this is very exciting because the FFT is $O(n \\log n)$ while the vanilla matrix-vector multiplication is $O(n^2)$"
     ]
    }
   ],
   "metadata": {}
  }
 ]
}
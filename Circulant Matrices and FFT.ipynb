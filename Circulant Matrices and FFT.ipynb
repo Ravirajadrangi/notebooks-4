{
 "metadata": {
  "name": ""
 },
 "nbformat": 3,
 "nbformat_minor": 0,
 "worksheets": [
  {
   "cells": [
    {
     "cell_type": "markdown",
     "metadata": {},
     "source": [
      "# Circulant Matrices and FFT\n",
      "\n"
     ]
    },
    {
     "cell_type": "markdown",
     "metadata": {},
     "source": [
      "The Hankel matrix is determined by its first column and last row"
     ]
    },
    {
     "cell_type": "code",
     "collapsed": false,
     "input": [
      "from scipy.linalg import circulant, hankel, toeplitz\n",
      "import numpy as np\n",
      "from numpy.fft import fft\n",
      "from numpy.linalg import qr\n",
      "\n",
      "H = hankel([1, 2, 3], [3, 4, 5])\n",
      "print H"
     ],
     "language": "python",
     "metadata": {},
     "outputs": [
      {
       "output_type": "stream",
       "stream": "stdout",
       "text": [
        "[[1 2 3]\n",
        " [2 3 4]\n",
        " [3 4 5]]\n"
       ]
      }
     ],
     "prompt_number": 7
    },
    {
     "cell_type": "markdown",
     "metadata": {},
     "source": [
      "The Toeplitz matrix is determined by its first column and first row"
     ]
    },
    {
     "cell_type": "code",
     "collapsed": false,
     "input": [
      "T = toeplitz([3, 4, 5], [3, 2, 1])\n",
      "print T"
     ],
     "language": "python",
     "metadata": {},
     "outputs": [
      {
       "output_type": "stream",
       "stream": "stdout",
       "text": [
        "[[3 2 1]\n",
        " [4 3 2]\n",
        " [5 4 3]]\n"
       ]
      }
     ],
     "prompt_number": 8
    },
    {
     "cell_type": "markdown",
     "metadata": {},
     "source": [
      "By flipping the columns of a Hankel matrix, we can obtain a Toeplitz matrix. This can be achieved by first forming $\\mathbf{S}$:\n",
      "\\begin{align}\n",
      "\\mathbf{S} = \\begin{bmatrix}\n",
      "0 & 0 & 1 \\\\\n",
      "0 & 1 & 0 \\\\\n",
      "1 & 0 & 0 \\\\\n",
      "\\end{bmatrix}\n",
      "\\end{align}\n",
      "\n",
      "and postmultiply it with $\\mathbf{H}$:\n",
      "\\begin{equation}\n",
      "H(\\mathbf{h})S = T(\\mathbf{h})\n",
      "\\end{equation}"
     ]
    },
    {
     "cell_type": "code",
     "collapsed": false,
     "input": [
      "n = H.shape[0]\n",
      "S = np.fliplr(np.eye(3))\n",
      "print S\n",
      "print H.dot(S)\n",
      "\n",
      "def hankel_to_toeplitz(H):\n",
      "    return np.fliplr(H)\n",
      "\n",
      "print hankel_to_toeplitz(H)"
     ],
     "language": "python",
     "metadata": {},
     "outputs": [
      {
       "output_type": "stream",
       "stream": "stdout",
       "text": [
        "[[ 0.  0.  1.]\n",
        " [ 0.  1.  0.]\n",
        " [ 1.  0.  0.]]\n",
        "[[ 3.  2.  1.]\n",
        " [ 4.  3.  2.]\n",
        " [ 5.  4.  3.]]\n",
        "[[3 2 1]\n",
        " [4 3 2]\n",
        " [5 4 3]]\n"
       ]
      }
     ],
     "prompt_number": 9
    },
    {
     "cell_type": "markdown",
     "metadata": {},
     "source": [
      "We can embed a Toeplitz matrix in a circulant matrix, determined by its first column.\n"
     ]
    },
    {
     "cell_type": "code",
     "collapsed": false,
     "input": [
      "def hankel_embedding(H):\n",
      "    c_hat = np.concatenate((H[-1,:], H[:-1,0]))\n",
      "    return (c_hat, circulant(c_hat))\n",
      "\n",
      "c_hat, C = hankel_embedding(H)\n",
      "print C"
     ],
     "language": "python",
     "metadata": {},
     "outputs": [
      {
       "output_type": "stream",
       "stream": "stdout",
       "text": [
        "[[3 2 1 5 4]\n",
        " [4 3 2 1 5]\n",
        " [5 4 3 2 1]\n",
        " [1 5 4 3 2]\n",
        " [2 1 5 4 3]]\n"
       ]
      }
     ],
     "prompt_number": 10
    },
    {
     "cell_type": "markdown",
     "metadata": {},
     "source": [
      "and we can see that the leading principal submatrix is the Toeplitz matrix $T(h)$."
     ]
    },
    {
     "cell_type": "code",
     "collapsed": false,
     "input": [
      "np.array_equal(C[:3,:3], T)"
     ],
     "language": "python",
     "metadata": {},
     "outputs": [
      {
       "metadata": {},
       "output_type": "pyout",
       "prompt_number": 11,
       "text": [
        "True"
       ]
      }
     ],
     "prompt_number": 11
    },
    {
     "cell_type": "markdown",
     "metadata": {},
     "source": [
      "# Matrix-vector multiplication\n",
      "\n",
      "Let $w$ be a vector, we want to compute\n",
      "\\begin{align}\n",
      "\\mathbf{p} &= \\mathbf{H}\\mathbf{w} \\\\\n",
      "\\mathbf{p} &= \\mathbf{H}(h)\\mathbf{w} = \\mathbf{T}(h) \\mathbf{S} \\mathbf{w}\n",
      "\\end{align}\n",
      "\n",
      "We will form $\\hat{\\mathbf{w}}$ of size $2n - 1$ as follow\n",
      "\\begin{align}\n",
      "\\hat{\\mathbf{w}} = [w_n, w_{n-1}, ..., w_1, 0, ..., 0]^\\top\n",
      "\\end{align}\n",
      "\n",
      "Then the product of $\\mathbf{H}\\mathbf{w}$ can be recovered from \n",
      "\\begin{align}\n",
      "\\mathbf{y} = C(\\hat{\\mathbf{c}})\\hat{\\mathbf{w}}\n",
      "\\end{align}"
     ]
    },
    {
     "cell_type": "code",
     "collapsed": false,
     "input": [
      "w = np.random.randint(10, size=3)\n",
      "\n",
      "w_hat = np.zeros((2*n-1,))\n",
      "w_hat[:n] = S.dot(w)\n",
      "\n",
      "y = C.dot(w_hat)[:n]\n",
      "print y\n",
      "print np.array_equal(y, H.dot(w))"
     ],
     "language": "python",
     "metadata": {},
     "outputs": [
      {
       "output_type": "stream",
       "stream": "stdout",
       "text": [
        "[ 25.  36.  47.]\n",
        "True\n"
       ]
      }
     ],
     "prompt_number": 12
    },
    {
     "cell_type": "markdown",
     "metadata": {},
     "source": [
      "# Circulant matrix-vector multiplication with the FFT\n",
      "\n",
      "\\begin{align}\n",
      "C(\\hat{\\mathbf{c}})\\hat{\\mathbf{w}} = \\mathcal{F}^{-1}\\left(\\mathcal{F}(\\hat{\\mathbf{c}}) \\odot \\mathcal{F}(\\hat{\\mathbf{w}})\\right)\n",
      "\\end{align}\n",
      "\n",
      "where $\\odot$ denotes component-wise multiplication."
     ]
    },
    {
     "cell_type": "code",
     "collapsed": false,
     "input": [
      "from numpy.fft import fft\n",
      "\n",
      "y = ifft(fft(c_hat)*fft(w_hat))\n",
      "print y[:n]"
     ],
     "language": "python",
     "metadata": {},
     "outputs": [
      {
       "output_type": "stream",
       "stream": "stdout",
       "text": [
        "[ 25.+0.j  36.+0.j  47.+0.j]\n"
       ]
      }
     ],
     "prompt_number": 13
    },
    {
     "cell_type": "markdown",
     "metadata": {},
     "source": [
      "# Eigendecomposition of an Hankel matrix\n",
      "\n",
      "Circulant matrices are diagonalized by the FFT. \n"
     ]
    },
    {
     "cell_type": "code",
     "collapsed": false,
     "input": [
      "from numpy.linalg import eig\n",
      "\n",
      "print fft(c_hat)\n",
      "w, v = eig(C)\n",
      "print w"
     ],
     "language": "python",
     "metadata": {},
     "outputs": [
      {
       "output_type": "stream",
       "stream": "stdout",
       "text": [
        "[ 15.+0.j           0.-4.25325404j   0.+2.62865556j   0.-2.62865556j\n",
        "   0.+4.25325404j]\n",
        "[  1.50000000e+01+0.j           1.11022302e-15+4.25325404j\n",
        "   1.11022302e-15-4.25325404j   2.22044605e-16+2.62865556j\n",
        "   2.22044605e-16-2.62865556j]\n"
       ]
      }
     ],
     "prompt_number": 16
    },
    {
     "cell_type": "code",
     "collapsed": false,
     "input": [],
     "language": "python",
     "metadata": {},
     "outputs": [],
     "prompt_number": 14
    }
   ],
   "metadata": {}
  }
 ]
}
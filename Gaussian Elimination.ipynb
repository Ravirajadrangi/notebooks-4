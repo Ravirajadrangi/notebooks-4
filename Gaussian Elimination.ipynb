{
 "metadata": {
  "name": "",
  "signature": "sha256:9a341a604bcaf7350ed2f04bac2391abd0e03fccc3b059dd45c2f1d7e3b64267"
 },
 "nbformat": 3,
 "nbformat_minor": 0,
 "worksheets": [
  {
   "cells": [
    {
     "cell_type": "code",
     "collapsed": false,
     "input": [
      "import numpy as np\n",
      "\n",
      "def lu_factorization(B):\n",
      "    A = np.copy(B)\n",
      "    n = A.shape[0]\n",
      "    P = np.eye(n)\n",
      "\n",
      "    rinterchg = np.zeros(n, dtype=np.int)\n",
      "    for k in range(n-1):\n",
      "        pvalue, prow = A[:,k].max(), A[:,k].argmax()\n",
      "        \n",
      "        if np.isclose(pvalue, 0.):\n",
      "            rinterchg[k] = 0\n",
      "            print 'Singular matrix'\n",
      "        else:\n",
      "            rinterchg[k] = prow\n",
      "            if prow != k:\n",
      "                A[[prow,k],:] = A[[k,prow],:]\n",
      "                P[[prow,k],:] = P[[k,prow],:]\n",
      "            for i in range(k+1,n):\n",
      "                A[i,k] = A[i,k]/A[k,k]\n",
      "            for i in range(k+1,n):\n",
      "                A[i,k+1:] -= A[i,k]*A[k,k+1:]\n",
      "                \n",
      "    if np.isclose(A[-1,-1],0.):\n",
      "        rinterchg[n-1] = 0\n",
      "        print 'Singular matrix'\n",
      "    else:\n",
      "        rinterchg[n-1] = n-1\n",
      "        \n",
      "    L = np.eye(n)\n",
      "    lindices = np.tril_indices(n,k=-1)\n",
      "    L[lindices] = A[lindices]\n",
      "    \n",
      "    return L, np.triu(A), P"
     ],
     "language": "python",
     "metadata": {},
     "outputs": [],
     "prompt_number": 1
    },
    {
     "cell_type": "code",
     "collapsed": false,
     "input": [
      "A = np.array([[0, 4, 1], [1, 1, 3], [2, -2, 1]], dtype=np.float64)\n",
      "L, U, P = lu_factorization(A)\n",
      "print P\n",
      "print L\n",
      "print U\n",
      "print P.T.dot(L).dot(U)"
     ],
     "language": "python",
     "metadata": {},
     "outputs": [
      {
       "output_type": "stream",
       "stream": "stdout",
       "text": [
        "[[ 0.  0.  1.]\n",
        " [ 1.  0.  0.]\n",
        " [ 0.  1.  0.]]\n",
        "[[ 1.   0.   0. ]\n",
        " [ 0.   1.   0. ]\n",
        " [ 0.5  0.5  1. ]]\n",
        "[[ 2. -2.  1.]\n",
        " [ 0.  4.  1.]\n",
        " [ 0.  0.  2.]]\n",
        "[[ 0.  4.  1.]\n",
        " [ 1.  1.  3.]\n",
        " [ 2. -2.  1.]]\n"
       ]
      }
     ],
     "prompt_number": 2
    },
    {
     "cell_type": "code",
     "collapsed": false,
     "input": [
      "from scipy.linalg import lu\n",
      "[P,L,U] = lu(A)\n",
      "print P.T\n",
      "print L\n",
      "print U"
     ],
     "language": "python",
     "metadata": {},
     "outputs": [
      {
       "output_type": "stream",
       "stream": "stdout",
       "text": [
        "[[ 0.  0.  1.]\n",
        " [ 1.  0.  0.]\n",
        " [ 0.  1.  0.]]\n",
        "[[ 1.   0.   0. ]\n",
        " [ 0.   1.   0. ]\n",
        " [ 0.5  0.5  1. ]]\n",
        "[[ 2. -2.  1.]\n",
        " [ 0.  4.  1.]\n",
        " [ 0.  0.  2.]]\n"
       ]
      }
     ],
     "prompt_number": 3
    }
   ],
   "metadata": {}
  }
 ]
}
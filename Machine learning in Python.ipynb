{
 "metadata": {
  "name": "",
  "signature": "sha256:880cff48d3c6f7b1056f0814d670dfb35c3133c377e6cfa722a2d2a186620d3d"
 },
 "nbformat": 3,
 "nbformat_minor": 0,
 "worksheets": [
  {
   "cells": [
    {
     "cell_type": "markdown",
     "metadata": {},
     "source": [
      "# How to Python at McGill\n",
      "\n",
      "Python is great because it has so many packages. However, you will quickly discover that installing packages without administrative privileges can become challenging. There is [virtualenv](http://www.virtualenv.org/en/latest/) that lets you install packages locally but it can be a nightmare when you have C librairies to build. \n",
      "\n",
      "If you want to do scientific computing with Python, I advise you to go with the [Anaconda](http://continuum.io/downloads) Python distribution. It will save you (and the SOCS sysadmins) a great deal of time."
     ]
    },
    {
     "cell_type": "raw",
     "metadata": {},
     "source": [
      "chmod +x <anaconda_filename>\n",
      "./<anaconda_filename>\n",
      "conda update conda\n",
      "conda update ipython"
     ]
    },
    {
     "cell_type": "markdown",
     "metadata": {},
     "source": [
      "# The magic of IPython\n",
      "\n",
      "If you miss the interactive style of the Matlab prompt, it's a good idea to use the [IPython](http://ipython.org/) shell or the web-based [IPython notebook](http://ipython.org/notebook.html). Notebooks embody the idea of [literate programming](http://en.wikipedia.org/wiki/Literate_programming) interleaving text, math rendering, executable code, plots and other forms of medias. It's also a great way to embrace reproducibility ! Download this notebook and see for yourself.  \n",
      "\n",
      "Although IPython has the *python* suffix in its name, its modular design allows for a great deal of interoperability with other languages. For example, you can call bash through the so-called *cell magics*. For example:"
     ]
    },
    {
     "cell_type": "code",
     "collapsed": false,
     "input": [
      "%pwd"
     ],
     "language": "python",
     "metadata": {},
     "outputs": [
      {
       "metadata": {},
       "output_type": "pyout",
       "prompt_number": 13,
       "text": [
        "u'/Users/pierrelucbacon/workspace/notebooks'"
       ]
      }
     ],
     "prompt_number": 13
    },
    {
     "cell_type": "markdown",
     "metadata": {},
     "source": [
      "In order to capture the output of a bash cell into Python variables, you could also do:"
     ]
    },
    {
     "cell_type": "code",
     "collapsed": false,
     "input": [
      "%%bash --out output --err error\n",
      "echo $RANDOM"
     ],
     "language": "python",
     "metadata": {},
     "outputs": [],
     "prompt_number": 6
    },
    {
     "cell_type": "code",
     "collapsed": false,
     "input": [
      "print output"
     ],
     "language": "python",
     "metadata": {},
     "outputs": [
      {
       "output_type": "stream",
       "stream": "stdout",
       "text": [
        "8430\n",
        "\n"
       ]
      }
     ],
     "prompt_number": 7
    },
    {
     "cell_type": "markdown",
     "metadata": {},
     "source": [
      "You can obtain the list of supported cell magics through `%lsmagic`."
     ]
    },
    {
     "cell_type": "code",
     "collapsed": false,
     "input": [
      "%lsmagic"
     ],
     "language": "python",
     "metadata": {},
     "outputs": [
      {
       "json": [
        "{\"cell\": {\"prun\": \"ExecutionMagics\", \"file\": \"Other\", \"!\": \"OSMagics\", \"capture\": \"ExecutionMagics\", \"timeit\": \"ExecutionMagics\", \"script\": \"ScriptMagics\", \"pypy\": \"Other\", \"system\": \"OSMagics\", \"perl\": \"Other\", \"HTML\": \"Other\", \"bash\": \"Other\", \"python\": \"Other\", \"SVG\": \"Other\", \"javascript\": \"DisplayMagics\", \"writefile\": \"OSMagics\", \"ruby\": \"Other\", \"python3\": \"Other\", \"python2\": \"Other\", \"latex\": \"DisplayMagics\", \"sx\": \"OSMagics\", \"svg\": \"DisplayMagics\", \"html\": \"DisplayMagics\", \"sh\": \"Other\", \"time\": \"ExecutionMagics\", \"debug\": \"ExecutionMagics\"}, \"line\": {\"psource\": \"NamespaceMagics\", \"logstart\": \"LoggingMagics\", \"popd\": \"OSMagics\", \"loadpy\": \"CodeMagics\", \"install_ext\": \"ExtensionMagics\", \"colors\": \"BasicMagics\", \"who_ls\": \"NamespaceMagics\", \"lf\": \"Other\", \"install_profiles\": \"DeprecatedMagics\", \"ll\": \"Other\", \"pprint\": \"BasicMagics\", \"lk\": \"Other\", \"ls\": \"Other\", \"save\": \"CodeMagics\", \"tb\": \"ExecutionMagics\", \"lx\": \"Other\", \"pylab\": \"PylabMagics\", \"killbgscripts\": \"ScriptMagics\", \"quickref\": \"BasicMagics\", \"magic\": \"BasicMagics\", \"dhist\": \"OSMagics\", \"edit\": \"KernelMagics\", \"logstop\": \"LoggingMagics\", \"gui\": \"BasicMagics\", \"alias_magic\": \"BasicMagics\", \"debug\": \"ExecutionMagics\", \"page\": \"BasicMagics\", \"logstate\": \"LoggingMagics\", \"ed\": \"Other\", \"pushd\": \"OSMagics\", \"timeit\": \"ExecutionMagics\", \"rehashx\": \"OSMagics\", \"hist\": \"Other\", \"qtconsole\": \"KernelMagics\", \"rm\": \"Other\", \"dirs\": \"OSMagics\", \"run\": \"ExecutionMagics\", \"reset_selective\": \"NamespaceMagics\", \"rep\": \"Other\", \"pinfo2\": \"NamespaceMagics\", \"matplotlib\": \"PylabMagics\", \"unload_ext\": \"ExtensionMagics\", \"doctest_mode\": \"KernelMagics\", \"logoff\": \"LoggingMagics\", \"reload_ext\": \"ExtensionMagics\", \"pdb\": \"ExecutionMagics\", \"load\": \"CodeMagics\", \"lsmagic\": \"BasicMagics\", \"autosave\": \"KernelMagics\", \"cd\": \"OSMagics\", \"pastebin\": \"CodeMagics\", \"prun\": \"ExecutionMagics\", \"cp\": \"Other\", \"autocall\": \"AutoMagics\", \"bookmark\": \"OSMagics\", \"connect_info\": \"KernelMagics\", \"mkdir\": \"Other\", \"system\": \"OSMagics\", \"whos\": \"NamespaceMagics\", \"rmdir\": \"Other\", \"automagic\": \"AutoMagics\", \"store\": \"StoreMagics\", \"more\": \"KernelMagics\", \"pdef\": \"NamespaceMagics\", \"precision\": \"BasicMagics\", \"pinfo\": \"NamespaceMagics\", \"pwd\": \"OSMagics\", \"psearch\": \"NamespaceMagics\", \"reset\": \"NamespaceMagics\", \"recall\": \"HistoryMagics\", \"xdel\": \"NamespaceMagics\", \"xmode\": \"BasicMagics\", \"cat\": \"Other\", \"mv\": \"Other\", \"rerun\": \"HistoryMagics\", \"logon\": \"LoggingMagics\", \"history\": \"HistoryMagics\", \"pycat\": \"OSMagics\", \"unalias\": \"OSMagics\", \"install_default_config\": \"DeprecatedMagics\", \"env\": \"OSMagics\", \"load_ext\": \"ExtensionMagics\", \"config\": \"ConfigMagics\", \"profile\": \"BasicMagics\", \"pfile\": \"NamespaceMagics\", \"less\": \"KernelMagics\", \"who\": \"NamespaceMagics\", \"notebook\": \"BasicMagics\", \"man\": \"KernelMagics\", \"sx\": \"OSMagics\", \"macro\": \"ExecutionMagics\", \"clear\": \"KernelMagics\", \"alias\": \"OSMagics\", \"time\": \"ExecutionMagics\", \"sc\": \"OSMagics\", \"ldir\": \"Other\", \"pdoc\": \"NamespaceMagics\"}}"
       ],
       "metadata": {},
       "output_type": "pyout",
       "prompt_number": 3,
       "text": [
        "Available line magics:\n",
        "%alias  %alias_magic  %autocall  %automagic  %autosave  %bookmark  %cat  %cd  %clear  %colors  %config  %connect_info  %cp  %debug  %dhist  %dirs  %doctest_mode  %ed  %edit  %env  %gui  %hist  %history  %install_default_config  %install_ext  %install_profiles  %killbgscripts  %ldir  %less  %lf  %lk  %ll  %load  %load_ext  %loadpy  %logoff  %logon  %logstart  %logstate  %logstop  %ls  %lsmagic  %lx  %macro  %magic  %man  %matplotlib  %mkdir  %more  %mv  %notebook  %page  %pastebin  %pdb  %pdef  %pdoc  %pfile  %pinfo  %pinfo2  %popd  %pprint  %precision  %profile  %prun  %psearch  %psource  %pushd  %pwd  %pycat  %pylab  %qtconsole  %quickref  %recall  %rehashx  %reload_ext  %rep  %rerun  %reset  %reset_selective  %rm  %rmdir  %run  %save  %sc  %store  %sx  %system  %tb  %time  %timeit  %unalias  %unload_ext  %who  %who_ls  %whos  %xdel  %xmode\n",
        "\n",
        "Available cell magics:\n",
        "%%!  %%HTML  %%SVG  %%bash  %%capture  %%debug  %%file  %%html  %%javascript  %%latex  %%perl  %%prun  %%pypy  %%python  %%python2  %%python3  %%ruby  %%script  %%sh  %%svg  %%sx  %%system  %%time  %%timeit  %%writefile\n",
        "\n",
        "Automagic is ON, % prefix IS NOT needed for line magics."
       ]
      }
     ],
     "prompt_number": 3
    },
    {
     "cell_type": "markdown",
     "metadata": {},
     "source": [
      "Another useful cell magic is also `%timeit`, giving you an estimate of the time spent executing a given function. For example:"
     ]
    },
    {
     "cell_type": "code",
     "collapsed": false,
     "input": [
      "%timeit np.linalg.eigvals(np.random.rand(50,50))"
     ],
     "language": "python",
     "metadata": {},
     "outputs": [
      {
       "output_type": "stream",
       "stream": "stdout",
       "text": [
        "1000 loops, best of 3: 1.22 ms per loop\n"
       ]
      }
     ],
     "prompt_number": 8
    },
    {
     "cell_type": "markdown",
     "metadata": {},
     "source": [
      "You can learn more about various cell magics in this [notebook](http://nbviewer.ipython.org/github/ipython/ipython/blob/1.x/examples/notebooks/Cell%20Magics.ipynb)"
     ]
    },
    {
     "cell_type": "markdown",
     "metadata": {},
     "source": [
      "## Talking to R\n",
      "\n",
      "If you have R installed, IPython is able to execute a cell in R and return the result to Python. This can be useful if you find that a particular library was written only for R while your project uses mainly Python. "
     ]
    },
    {
     "cell_type": "code",
     "collapsed": false,
     "input": [
      "%%bash\n",
      "pip install rpy2"
     ],
     "language": "python",
     "metadata": {},
     "outputs": []
    },
    {
     "cell_type": "code",
     "collapsed": false,
     "input": [
      "%load_ext rpy2.ipython"
     ],
     "language": "python",
     "metadata": {},
     "outputs": [
      {
       "output_type": "stream",
       "stream": "stdout",
       "text": [
        "The rpy2.ipython extension is already loaded. To reload it, use:\n",
        "  %reload_ext rpy2.ipython\n"
       ]
      }
     ],
     "prompt_number": 31
    },
    {
     "cell_type": "code",
     "collapsed": false,
     "input": [
      "x = np.linspace(0,10,50)\n",
      "y = 0.9*x + np.random.randn(50)\n",
      "plt.plot(x,y,'.')"
     ],
     "language": "python",
     "metadata": {},
     "outputs": [
      {
       "metadata": {},
       "output_type": "pyout",
       "prompt_number": 27,
       "text": [
        "[<matplotlib.lines.Line2D at 0x10c3034d0>]"
       ]
      },
      {
       "metadata": {},
       "output_type": "display_data",
       "png": "[encoded data removed]",
       "text": [
        "<matplotlib.figure.Figure at 0x10c124dd0>"
       ]
      }
     ],
     "prompt_number": 27
    },
    {
     "cell_type": "code",
     "collapsed": false,
     "input": [
      "%Rpush x y\n",
      "%R lm(y~x)$coef"
     ],
     "language": "python",
     "metadata": {},
     "outputs": [
      {
       "metadata": {},
       "output_type": "pyout",
       "prompt_number": 32,
       "text": [
        "<FloatVector - Python:0x10c366d40 / R:0x1012891c0>\n",
        "[-0.037854, 0.942194]"
       ]
      }
     ],
     "prompt_number": 32
    },
    {
     "cell_type": "markdown",
     "metadata": {},
     "source": [
      "You can learn more about the rmagic in this [notebook](http://nbviewer.ipython.org/github/ipython/ipython/blob/3607712653c66d63e0d7f13f073bde8c0f209ba8/docs/examples/notebooks/rmagic_extension.ipynb). "
     ]
    },
    {
     "cell_type": "markdown",
     "metadata": {},
     "source": [
      "## Talking to Matlab\n",
      "\n",
      "The [pymatbridge](https://github.com/arokem/python-matlab-bridge) module and cell magic allows you to spawn matlab in the background and feed it commands from IPython. This extension is not part of the core IPython and you will also need to install it manually."
     ]
    },
    {
     "cell_type": "code",
     "collapsed": false,
     "input": [
      "%load_ext pymatbridge"
     ],
     "language": "python",
     "metadata": {},
     "outputs": [
      {
       "output_type": "stream",
       "stream": "stdout",
       "text": [
        "Starting MATLAB on http://localhost:62103\n",
        " visit http://localhost:62103/exit.m to shut down same\n"
       ]
      },
      {
       "output_type": "stream",
       "stream": "stdout",
       "text": [
        "."
       ]
      },
      {
       "output_type": "stream",
       "stream": "stdout",
       "text": [
        "."
       ]
      },
      {
       "output_type": "stream",
       "stream": "stdout",
       "text": [
        "."
       ]
      },
      {
       "output_type": "stream",
       "stream": "stdout",
       "text": [
        "MATLAB started and connected!\n"
       ]
      }
     ],
     "prompt_number": 1
    },
    {
     "cell_type": "code",
     "collapsed": false,
     "input": [
      "%%matlab \n",
      "x = linspace(0.01,6*pi,100);\n",
      "plot(sin(x))"
     ],
     "language": "python",
     "metadata": {},
     "outputs": [
      {
       "metadata": {},
       "output_type": "display_data",
       "png": "[encoded data removed]"
      }
     ],
     "prompt_number": 35
    },
    {
     "cell_type": "markdown",
     "metadata": {},
     "source": [
      "# Numpy basics\n",
      "\n",
      "Numpy is a Python library which provides matrix manipulation capabilities and other standard numerical algorithms. You can load it under the `np` namespace with: "
     ]
    },
    {
     "cell_type": "code",
     "collapsed": false,
     "input": [
      "import numpy as np"
     ],
     "language": "python",
     "metadata": {},
     "outputs": [],
     "prompt_number": 36
    },
    {
     "cell_type": "markdown",
     "metadata": {},
     "source": [
      "## Creating arrays\n",
      "\n",
      "You can create a vector from an existing tuple:"
     ]
    },
    {
     "cell_type": "code",
     "collapsed": false,
     "input": [
      "x = np.array([1,2,3,4])\n",
      "print x\n",
      "print x.shape"
     ],
     "language": "python",
     "metadata": {},
     "outputs": [
      {
       "output_type": "stream",
       "stream": "stdout",
       "text": [
        "(4,)\n"
       ]
      }
     ],
     "prompt_number": 39
    },
    {
     "cell_type": "markdown",
     "metadata": {},
     "source": [
      "Similarly, you can define a numpy matrix as:\n"
     ]
    },
    {
     "cell_type": "code",
     "collapsed": false,
     "input": [
      "X = np.array([[1,2], [3,4]])\n",
      "print X\n",
      "print X.shape"
     ],
     "language": "python",
     "metadata": {},
     "outputs": [
      {
       "output_type": "stream",
       "stream": "stdout",
       "text": [
        "[[1 2]\n",
        " [3 4]]\n",
        "(2, 2)\n"
       ]
      }
     ],
     "prompt_number": 40
    },
    {
     "cell_type": "markdown",
     "metadata": {},
     "source": [
      "You can also easily generate points on an interval through [linspace](http://docs.scipy.org/doc/numpy/reference/generated/numpy.linspace.html) or [logspace](http://docs.scipy.org/doc/numpy/reference/generated/numpy.logspace.html):"
     ]
    },
    {
     "cell_type": "code",
     "collapsed": false,
     "input": [
      "x = linspace(0, 10, 25)\n",
      "print x"
     ],
     "language": "python",
     "metadata": {},
     "outputs": [
      {
       "output_type": "stream",
       "stream": "stdout",
       "text": [
        "[  0.           0.41666667   0.83333333   1.25         1.66666667\n",
        "   2.08333333   2.5          2.91666667   3.33333333   3.75         4.16666667\n",
        "   4.58333333   5.           5.41666667   5.83333333   6.25         6.66666667\n",
        "   7.08333333   7.5          7.91666667   8.33333333   8.75         9.16666667\n",
        "   9.58333333  10.        ]\n"
       ]
      }
     ],
     "prompt_number": 45
    },
    {
     "cell_type": "markdown",
     "metadata": {},
     "source": [
      "The standards matrices can be generated with:"
     ]
    },
    {
     "cell_type": "code",
     "collapsed": false,
     "input": [
      "np.zeros((5,5))"
     ],
     "language": "python",
     "metadata": {},
     "outputs": [
      {
       "metadata": {},
       "output_type": "pyout",
       "prompt_number": 51,
       "text": [
        "array([[ 0.,  0.,  0.,  0.,  0.],\n",
        "       [ 0.,  0.,  0.,  0.,  0.],\n",
        "       [ 0.,  0.,  0.,  0.,  0.],\n",
        "       [ 0.,  0.,  0.,  0.,  0.],\n",
        "       [ 0.,  0.,  0.,  0.,  0.]])"
       ]
      }
     ],
     "prompt_number": 51
    },
    {
     "cell_type": "code",
     "collapsed": false,
     "input": [
      "np.ones((5,5))"
     ],
     "language": "python",
     "metadata": {},
     "outputs": [
      {
       "metadata": {},
       "output_type": "pyout",
       "prompt_number": 52,
       "text": [
        "array([[ 1.,  1.,  1.,  1.,  1.],\n",
        "       [ 1.,  1.,  1.,  1.,  1.],\n",
        "       [ 1.,  1.,  1.,  1.,  1.],\n",
        "       [ 1.,  1.,  1.,  1.,  1.],\n",
        "       [ 1.,  1.,  1.,  1.,  1.]])"
       ]
      }
     ],
     "prompt_number": 52
    },
    {
     "cell_type": "code",
     "collapsed": false,
     "input": [
      "np.eye(5)"
     ],
     "language": "python",
     "metadata": {},
     "outputs": [
      {
       "metadata": {},
       "output_type": "pyout",
       "prompt_number": 53,
       "text": [
        "array([[ 1.,  0.,  0.,  0.,  0.],\n",
        "       [ 0.,  1.,  0.,  0.,  0.],\n",
        "       [ 0.,  0.,  1.,  0.,  0.],\n",
        "       [ 0.,  0.,  0.,  1.,  0.],\n",
        "       [ 0.,  0.,  0.,  0.,  1.]])"
       ]
      }
     ],
     "prompt_number": 53
    },
    {
     "cell_type": "markdown",
     "metadata": {},
     "source": [
      "## Indexing\n",
      "\n",
      "As opposed to Matlab, Numpy is 0-indexed. Indexing can be performed efficiently through *slicing*."
     ]
    },
    {
     "cell_type": "code",
     "collapsed": false,
     "input": [
      "X = np.random.randn(4,4)\n",
      "print X"
     ],
     "language": "python",
     "metadata": {},
     "outputs": [
      {
       "output_type": "stream",
       "stream": "stdout",
       "text": [
        "[[-1.70764047  0.90547417  1.68737434  0.06062493]\n",
        " [-0.94626689 -0.63206029  0.92301366 -0.18355946]\n",
        " [ 1.73026429 -1.663193    2.30193801 -1.1882319 ]\n",
        " [-0.94634963  1.35433489  1.55058869  0.68150558]]\n"
       ]
      }
     ],
     "prompt_number": 24
    },
    {
     "cell_type": "markdown",
     "metadata": {},
     "source": [
      "Selecting all rows except the first and all columns:"
     ]
    },
    {
     "cell_type": "code",
     "collapsed": false,
     "input": [
      "X[1:,:]"
     ],
     "language": "python",
     "metadata": {},
     "outputs": [
      {
       "metadata": {},
       "output_type": "pyout",
       "prompt_number": 25,
       "text": [
        "array([[-0.94626689, -0.63206029,  0.92301366, -0.18355946],\n",
        "       [ 1.73026429, -1.663193  ,  2.30193801, -1.1882319 ],\n",
        "       [-0.94634963,  1.35433489,  1.55058869,  0.68150558]])"
       ]
      }
     ],
     "prompt_number": 25
    },
    {
     "cell_type": "markdown",
     "metadata": {},
     "source": [
      "Select columns 2 and 0 and all rows:"
     ]
    },
    {
     "cell_type": "code",
     "collapsed": false,
     "input": [
      "X[:,[2,0]]"
     ],
     "language": "python",
     "metadata": {},
     "outputs": [
      {
       "metadata": {},
       "output_type": "pyout",
       "prompt_number": 27,
       "text": [
        "array([[ 1.68737434, -1.70764047],\n",
        "       [ 0.92301366, -0.94626689],\n",
        "       [ 2.30193801,  1.73026429],\n",
        "       [ 1.55058869, -0.94634963]])"
       ]
      }
     ],
     "prompt_number": 27
    },
    {
     "cell_type": "markdown",
     "metadata": {},
     "source": [
      "`-1` (minus one) stands for the last element in a given dimension"
     ]
    },
    {
     "cell_type": "code",
     "collapsed": false,
     "input": [
      "X[-1,:]"
     ],
     "language": "python",
     "metadata": {},
     "outputs": [
      {
       "metadata": {},
       "output_type": "pyout",
       "prompt_number": 28,
       "text": [
        "array([-0.94634963,  1.35433489,  1.55058869,  0.68150558])"
       ]
      }
     ],
     "prompt_number": 28
    },
    {
     "cell_type": "markdown",
     "metadata": {},
     "source": [
      "A powerful indexing feature can also be achieved through *logical indexing*. You can create a boolean array from an ndarray:"
     ]
    },
    {
     "cell_type": "code",
     "collapsed": false,
     "input": [
      "X < 0.5"
     ],
     "language": "python",
     "metadata": {},
     "outputs": [
      {
       "metadata": {},
       "output_type": "pyout",
       "prompt_number": 29,
       "text": [
        "array([[ True, False, False,  True],\n",
        "       [ True,  True, False,  True],\n",
        "       [False,  True, False,  True],\n",
        "       [ True, False, False, False]], dtype=bool)"
       ]
      }
     ],
     "prompt_number": 29
    },
    {
     "cell_type": "markdown",
     "metadata": {},
     "source": [
      "The boolean ndarray can then be used for indexing:"
     ]
    },
    {
     "cell_type": "code",
     "collapsed": false,
     "input": [
      "X[X < 0.5]"
     ],
     "language": "python",
     "metadata": {},
     "outputs": [
      {
       "metadata": {},
       "output_type": "pyout",
       "prompt_number": 30,
       "text": [
        "array([-1.70764047,  0.06062493, -0.94626689, -0.63206029, -0.18355946,\n",
        "       -1.663193  , -1.1882319 , -0.94634963])"
       ]
      }
     ],
     "prompt_number": 30
    },
    {
     "cell_type": "markdown",
     "metadata": {},
     "source": [
      "## Numpy for Matlab users\n",
      "\n",
      "If you know Matlab already, make sure to look at the cheatsheet [Numpy for matlab users](http://mathesaurus.sourceforge.net/matlab-numpy.html)."
     ]
    },
    {
     "cell_type": "markdown",
     "metadata": {},
     "source": [
      "## Numpy I/O\n",
      "\n",
      "\n",
      "You can import and export data from a variety of formats. For example, you can save a numpy array to a text format using [np.savetxt](http://docs.scipy.org/doc/numpy/reference/generated/numpy.savetxt.html)."
     ]
    },
    {
     "cell_type": "code",
     "collapsed": false,
     "input": [
      "X = np.random.normal(size=(5,5))\n",
      "np.savetxt('data.txt', X)"
     ],
     "language": "python",
     "metadata": {},
     "outputs": [],
     "prompt_number": 47
    },
    {
     "cell_type": "code",
     "collapsed": false,
     "input": [
      "%cat data.txt"
     ],
     "language": "python",
     "metadata": {},
     "outputs": [
      {
       "output_type": "stream",
       "stream": "stdout",
       "text": [
        "1.197893237743013484e-01 1.119680753641666415e+00 2.760820144781335639e+00 4.143985431128312524e-01 6.272962956524468225e-01\r\n",
        "-3.556200898023283152e-02 1.172462997831179798e+00 -1.064748026913807211e+00 1.112849379007628814e+00 -4.727241471017279428e-01\r\n",
        "4.236504223630166432e-01 -1.874808457348807744e-01 -8.970149555656995455e-01 1.116960713558439400e+00 -9.677310024585954185e-02\r\n",
        "6.715856037895520103e-01 1.322714038375039092e+00 2.534253399418259445e+00 -5.021439597551197176e-01 4.133192382117698571e-01\r\n",
        "-1.964886077115345131e+00 -3.896438665129208778e-01 -4.670073785036914504e-01 -1.476794682554197213e-02 -9.850625276861678381e-02\r\n"
       ]
      }
     ],
     "prompt_number": 48
    },
    {
     "cell_type": "code",
     "collapsed": false,
     "input": [
      "X = np.loadtxt('data.txt')"
     ],
     "language": "python",
     "metadata": {},
     "outputs": [],
     "prompt_number": 49
    },
    {
     "cell_type": "markdown",
     "metadata": {},
     "source": [
      "Unless you want your data files to be human readable in text form, it is usually preferable to use [http://docs.scipy.org/doc/numpy/reference/generated/numpy.save.html](http://docs.scipy.org/doc/numpy/reference/generated/numpy.save.html) rather than `np.savetxt`. The array will then be saved in a more compact Numpy (`.npy`) format."
     ]
    },
    {
     "cell_type": "markdown",
     "metadata": {},
     "source": [
      "## Dealing with matfiles\n",
      "\n",
      "If you can export Matlab matrices in versions v4 (Level 1.0), v6 or v7 to 7.2, then you would be able to use [scipy.io.loadmat](http://docs.scipy.org/doc/scipy/reference/generated/scipy.io.loadmat.html) to load your data in numpy."
     ]
    },
    {
     "cell_type": "code",
     "collapsed": false,
     "input": [
      "%%matlab\n",
      "x = magic(4);\n",
      "save('test.mat', 'x')"
     ],
     "language": "python",
     "metadata": {},
     "outputs": [],
     "prompt_number": 8
    },
    {
     "cell_type": "code",
     "collapsed": false,
     "input": [
      "from scipy.io import loadmat\n",
      "print loadmat('test.mat')"
     ],
     "language": "python",
     "metadata": {},
     "outputs": [
      {
       "output_type": "stream",
       "stream": "stdout",
       "text": [
        "{'x': array([[16,  2,  3, 13],\n",
        "       [ 5, 11, 10,  8],\n",
        "       [ 9,  7,  6, 12],\n",
        "       [ 4, 14, 15,  1]], dtype=uint8), '__version__': '1.0', '__header__': 'MATLAB 5.0 MAT-file, Platform: MACI64, Created on: Mon Sep 22 00:42:30 2014', '__globals__': []}\n"
       ]
      }
     ],
     "prompt_number": 9
    },
    {
     "cell_type": "markdown",
     "metadata": {},
     "source": [
      "The corresponding [scipy.io.savemat](http://docs.scipy.org/doc/scipy/reference/generated/scipy.io.savemat.html) is also available."
     ]
    },
    {
     "cell_type": "markdown",
     "metadata": {},
     "source": [
      "# Scikit-learn\n",
      "\n",
      "Scikit-learn offers a variety of classification, regression and clustering algorithms under a unified interface. If you decided to install Anaconda, it should already be available. [Standard datasets](http://scikit-learn.org/stable/datasets/) are shipped with Scikit. They can be quite useful for debugging your algorithm. We will load the *iris* dataset with:"
     ]
    },
    {
     "cell_type": "code",
     "collapsed": false,
     "input": [
      "from sklearn import linear_model, datasets\n",
      "\n",
      "iris = datasets.load_iris()\n",
      "X = iris.data[:,:]\n",
      "Y = iris.target"
     ],
     "language": "python",
     "metadata": {},
     "outputs": [],
     "prompt_number": 33
    },
    {
     "cell_type": "markdown",
     "metadata": {},
     "source": [
      "Scikit-learn provides different [cross-validation](http://scikit-learn.org/stable/modules/cross_validation.html) techniques. In the following `StratifiedKFold` is an iterator which outputs pairs of indices for the train and test instances. You then use these indices to slice your dataset. "
     ]
    },
    {
     "cell_type": "code",
     "collapsed": false,
     "input": [
      "from sklearn.cross_validation import StratifiedKFold\n",
      "from sklearn.metrics import mean_squared_error\n",
      "\n",
      "skf = StratifiedKFold(Y, 3)\n",
      "logreg = linear_model.LogisticRegression(C=1e5)\n",
      "\n",
      "for train, test in skf:\n",
      "    ypred = logreg.fit(X[train], Y[train]).predict(X[test])\n",
      "    print mean_squared_error(Y[test], ypred)"
     ],
     "language": "python",
     "metadata": {},
     "outputs": [
      {
       "output_type": "stream",
       "stream": "stdout",
       "text": [
        "0.08\n",
        "0.02\n",
        "0.02\n"
       ]
      }
     ],
     "prompt_number": 34
    },
    {
     "cell_type": "markdown",
     "metadata": {},
     "source": [
      "The above loop can also be written more succinctly using [cross_val_score](http://scikit-learn.org/stable/modules/cross_validation.html#computing-cross-validated-metrics). By specifying `n_jobs=k`, you can compute the cross-validation loop in parallel in `k` processes. If `k=-1`, all CPUs are used."
     ]
    },
    {
     "cell_type": "code",
     "collapsed": false,
     "input": [
      "from sklearn.cross_validation import cross_val_score\n",
      "cross_val_score(logreg, X, Y, cv=skf, scoring='mean_squared_error', n_jobs=-1)"
     ],
     "language": "python",
     "metadata": {},
     "outputs": [
      {
       "metadata": {},
       "output_type": "pyout",
       "prompt_number": 36,
       "text": [
        "array([-0.08, -0.02, -0.02])"
       ]
      }
     ],
     "prompt_number": 36
    },
    {
     "cell_type": "markdown",
     "metadata": {},
     "source": [
      "## Model selection\n",
      "\n",
      "Using cross-validated scores, you can perform model selection efficiently through [GridSearchCV](http://scikit-learn.org/stable/modules/generated/sklearn.grid_search.GridSearchCV.html#sklearn.grid_search.GridSearchCV). In the following, we will load the digits dataset and performe grid search over the parameters of an SVM classifier."
     ]
    },
    {
     "cell_type": "code",
     "collapsed": false,
     "input": [
      "from sklearn.svm import SVC\n",
      "from sklearn.cross_validation import train_test_split\n",
      "from sklearn.grid_search import GridSearchCV\n",
      "from sklearn.metrics import classification_report\n",
      "\n",
      "digits = datasets.load_digits()\n",
      "n_samples = len(digits.images)\n",
      "X = digits.images.reshape((n_samples, -1))\n",
      "y = digits.target\n",
      "\n",
      "X_train, X_test, y_train, y_test = train_test_split(\n",
      "    X, y, test_size=0.5, random_state=0)\n",
      "\n",
      "tuned_parameters = [{'kernel': ['rbf'], 'gamma': [1e-3, 1e-4],\n",
      "                     'C': [1, 10, 100, 1000]},\n",
      "                    {'kernel': ['linear'], 'C': [1, 10, 100, 1000]}]"
     ],
     "language": "python",
     "metadata": {},
     "outputs": []
    },
    {
     "cell_type": "markdown",
     "metadata": {},
     "source": [
      "`GridSearchCV` takes an estimator (regression, classification or clustering), a dictionary of parameters to try for that particular estimator, a cross-validation iterator and a scoring function. Once again, the parameter search can be performed in parallel with `n_jobs=-1`. The `fit` function of `GridSearchCV` then scores every possible combination of the `tuned_parameters` and saves the best one in the `best_estimator_` attribute."
     ]
    },
    {
     "cell_type": "code",
     "collapsed": false,
     "input": [
      "skf = StratifiedKFold(Y, 5)\n",
      "clf = GridSearchCV(SVC(C=1), tuned_parameters, cv=skf, scoring='precision', n_jobs=-1)\n",
      "clf.fit(X_train, y_train)\n",
      "print clf.best_estimator_\n",
      "print \"Grid scores on train set:\"\n",
      "for params, mean_score, scores in clf.grid_scores_:\n",
      "    print(\"%0.3f (+/-%0.03f) for %r\"%(mean_score, scores.std() / 2, params))"
     ],
     "language": "python",
     "metadata": {},
     "outputs": [
      {
       "output_type": "stream",
       "stream": "stdout",
       "text": [
        "SVC(C=10, cache_size=200, class_weight=None, coef0=0.0, degree=3, gamma=0.001,\n",
        "  kernel=rbf, max_iter=-1, probability=False, random_state=None,\n",
        "  shrinking=True, tol=0.001, verbose=False)\n",
        "Grid scores on train set:\n",
        "0.964 (+/-0.012) for {'kernel': 'rbf', 'C': 1, 'gamma': 0.001}\n",
        "0.741 (+/-0.085) for {'kernel': 'rbf', 'C': 1, 'gamma': 0.0001}\n",
        "0.974 (+/-0.007) for {'kernel': 'rbf', 'C': 10, 'gamma': 0.001}\n",
        "0.964 (+/-0.009) for {'kernel': 'rbf', 'C': 10, 'gamma': 0.0001}\n",
        "0.974 (+/-0.007) for {'kernel': 'rbf', 'C': 100, 'gamma': 0.001}\n",
        "0.968 (+/-0.011) for {'kernel': 'rbf', 'C': 100, 'gamma': 0.0001}\n",
        "0.974 (+/-0.007) for {'kernel': 'rbf', 'C': 1000, 'gamma': 0.001}\n",
        "0.968 (+/-0.011) for {'kernel': 'rbf', 'C': 1000, 'gamma': 0.0001}\n",
        "0.968 (+/-0.011) for {'kernel': 'linear', 'C': 1}\n",
        "0.968 (+/-0.011) for {'kernel': 'linear', 'C': 10}\n",
        "0.968 (+/-0.011) for {'kernel': 'linear', 'C': 100}\n",
        "0.968 (+/-0.011) for {'kernel': 'linear', 'C': 1000}\n"
       ]
      }
     ],
     "prompt_number": 40
    },
    {
     "cell_type": "markdown",
     "metadata": {},
     "source": [
      "The classification performance of the best estimator can then be reported with [classification_report](http://scikit-learn.org/stable/modules/generated/sklearn.metrics.classification_report.html#sklearn.metrics.classification_report)."
     ]
    },
    {
     "cell_type": "code",
     "collapsed": false,
     "input": [
      "y_true, y_pred = y_test, clf.predict(X_test)\n",
      "print(classification_report(y_true, y_pred))"
     ],
     "language": "python",
     "metadata": {},
     "outputs": [
      {
       "output_type": "stream",
       "stream": "stdout",
       "text": [
        "             precision    recall  f1-score   support\n",
        "\n",
        "          0       1.00      1.00      1.00        89\n",
        "          1       0.97      1.00      0.98        90\n",
        "          2       0.99      0.98      0.98        92\n",
        "          3       1.00      0.99      0.99        93\n",
        "          4       1.00      1.00      1.00        76\n",
        "          5       0.99      0.98      0.99       108\n",
        "          6       0.99      1.00      0.99        89\n",
        "          7       0.99      1.00      0.99        78\n",
        "          8       1.00      0.98      0.99        92\n",
        "          9       0.99      0.99      0.99        92\n",
        "\n",
        "avg / total       0.99      0.99      0.99       899\n",
        "\n"
       ]
      }
     ],
     "prompt_number": 41
    },
    {
     "cell_type": "markdown",
     "metadata": {},
     "source": [
      "## Dealing with large parameter sets\n",
      "\n",
      "It might happen that the set of parameters over which you would hope to run `GridSearchCV` would be too large. We could then decide to put a prior or the parameters and perform a stochastic search. [RandomizedSearchCV](http://scikit-learn.org/stable/modules/generated/sklearn.grid_search.RandomizedSearchCV.html#sklearn.grid_search.RandomizedSearchCV) supports any of the standard distribution from [scipy.stats](http://docs.scipy.org/doc/scipy/reference/stats.html) as priors. In this example, we will set an exponential priors over the `C` and `gamma` parameters."
     ]
    },
    {
     "cell_type": "code",
     "collapsed": false,
     "input": [
      "import scipy.stats\n",
      "from sklearn.grid_search import RandomizedSearchCV\n",
      "\n",
      "tuned_parameters = {'C': scipy.stats.expon(scale=100), 'gamma': scipy.stats.expon(scale=.1),\n",
      "  'kernel': ['rbf'], 'class_weight':['auto', None]}\n",
      "\n",
      "clf = RandomizedSearchCV(SVC(C=1), tuned_parameters, n_iter=10, n_jobs=-1)\n",
      "clf.fit(X_train, y_train)\n",
      "print clf.best_estimator_\n",
      "y_true, y_pred = y_test, clf.predict(X_test)\n",
      "print(classification_report(y_true, y_pred))"
     ],
     "language": "python",
     "metadata": {},
     "outputs": [
      {
       "output_type": "stream",
       "stream": "stdout",
       "text": [
        "SVC(C=195.501298689, cache_size=200, class_weight=auto, coef0=0.0, degree=3,\n",
        "  gamma=0.00576619958412, kernel=rbf, max_iter=-1, probability=False,\n",
        "  random_state=None, shrinking=True, tol=0.001, verbose=False)\n",
        "             precision    recall  f1-score   support\n",
        "\n",
        "          0       1.00      0.98      0.99        89\n",
        "          1       1.00      0.97      0.98        90\n",
        "          2       1.00      0.95      0.97        92\n",
        "          3       1.00      0.94      0.97        93\n",
        "          4       0.99      1.00      0.99        76\n",
        "          5       1.00      0.86      0.93       108\n",
        "          6       1.00      0.94      0.97        89\n",
        "          7       1.00      0.99      0.99        78\n",
        "          8       0.73      0.99      0.84        92\n",
        "          9       0.94      0.98      0.96        92\n",
        "\n",
        "avg / total       0.97      0.96      0.96       899\n"
       ]
      },
      {
       "output_type": "stream",
       "stream": "stdout",
       "text": [
        "\n"
       ]
      }
     ],
     "prompt_number": 54
    },
    {
     "cell_type": "markdown",
     "metadata": {},
     "source": [
      "## Fancier model selection\n",
      "\n",
      "[Hyperopt](https://github.com/hyperopt/hyperopt) goes beyond the randomized and grid search methods and provides fancier *hyperparameters* optimization. This package is quite popular in the neural net communities. "
     ]
    },
    {
     "cell_type": "markdown",
     "metadata": {},
     "source": [
      "## Preprocessing\n",
      "\n",
      "Scikit-learn also offers convenient preprocessing functions for the most common cases. Let say that you have categorial data of the following kind:"
     ]
    },
    {
     "cell_type": "code",
     "collapsed": false,
     "input": [
      "measurements = [\n",
      "     {'month': 'January', 'temperature': 33.},\n",
      "     {'month': 'March', 'temperature': 12.},\n",
      "     {'month': 'May', 'temperature': 18.},\n",
      "     {'month': 'January', 'temperature': 12.},\n",
      " ]"
     ],
     "language": "python",
     "metadata": {},
     "outputs": []
    },
    {
     "cell_type": "markdown",
     "metadata": {},
     "source": [
      "[DictVectorizer](http://scikit-learn.org/stable/modules/feature_extraction.html#loading-features-from-dicts) can be used to transform lists of dictionaries. Categorial variables are transformed using one-hot encoding. "
     ]
    },
    {
     "cell_type": "code",
     "collapsed": false,
     "input": [
      "from sklearn.feature_extraction import DictVectorizer\n",
      "vec = DictVectorizer()\n",
      "vec.fit_transform(measurements).toarray()"
     ],
     "language": "python",
     "metadata": {},
     "outputs": [
      {
       "metadata": {},
       "output_type": "pyout",
       "prompt_number": 63,
       "text": [
        "array([[  1.,   0.,   0.,  33.],\n",
        "       [  0.,   1.,   0.,  12.],\n",
        "       [  0.,   0.,   1.,  18.]])"
       ]
      }
     ],
     "prompt_number": 63
    },
    {
     "cell_type": "markdown",
     "metadata": {},
     "source": [
      "## Vector quantization\n",
      "\n"
     ]
    },
    {
     "cell_type": "markdown",
     "metadata": {},
     "source": [
      "If you need to discretize a continuous variable into a smaller set of discrete values, a possible approach is to use K-means. The `fit_predict` functions computes the clusters and returns the closest cluster centroid for every input point. "
     ]
    },
    {
     "cell_type": "code",
     "collapsed": false,
     "input": [
      "from sklearn.cluster import KMeans\n",
      "\n",
      "clst = KMeans(n_clusters=4)\n",
      "centroids = clst.fit_predict(iris.data).reshape(iris.data.shape[0], 1)\n",
      "print centroids[-10:]"
     ],
     "language": "python",
     "metadata": {},
     "outputs": [
      {
       "output_type": "stream",
       "stream": "stdout",
       "text": [
        "[[3]\n",
        " [3]\n",
        " [1]\n",
        " [3]\n",
        " [3]\n",
        " [3]\n",
        " [1]\n",
        " [1]\n",
        " [3]\n",
        " [1]]\n"
       ]
      }
     ],
     "prompt_number": 88
    },
    {
     "cell_type": "markdown",
     "metadata": {},
     "source": [
      "We can further transform this representation into one-hot vectors if needed."
     ]
    },
    {
     "cell_type": "code",
     "collapsed": false,
     "input": [
      "enc = OneHotEncoder()\n",
      "enc.fit_transform(centroids).toarray()[-10:]"
     ],
     "language": "python",
     "metadata": {},
     "outputs": [
      {
       "metadata": {},
       "output_type": "pyout",
       "prompt_number": 89,
       "text": [
        "array([[ 0.,  0.,  0.,  1.],\n",
        "       [ 0.,  0.,  0.,  1.],\n",
        "       [ 0.,  1.,  0.,  0.],\n",
        "       [ 0.,  0.,  0.,  1.],\n",
        "       [ 0.,  0.,  0.,  1.],\n",
        "       [ 0.,  0.,  0.,  1.],\n",
        "       [ 0.,  1.,  0.,  0.],\n",
        "       [ 0.,  1.,  0.,  0.],\n",
        "       [ 0.,  0.,  0.,  1.],\n",
        "       [ 0.,  1.,  0.,  0.]])"
       ]
      }
     ],
     "prompt_number": 89
    }
   ],
   "metadata": {}
  }
 ]
}
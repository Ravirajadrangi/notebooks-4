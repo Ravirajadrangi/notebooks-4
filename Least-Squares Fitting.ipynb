{
 "metadata": {
  "name": "",
  "signature": "sha256:7df01695821e952444d75a1f6033770ef2ccfabba84bac36e7ba685ac1b0a039"
 },
 "nbformat": 3,
 "nbformat_minor": 0,
 "worksheets": [
  {
   "cells": [
    {
     "cell_type": "markdown",
     "metadata": {},
     "source": [
      "# Least-squares fitting without explicit inverses\n",
      "\n",
      "I want to show you in this notebook how you can solve a least-squares problem without having recourse to a direct application of the normal equation. If you have to use [np.linalg.inv](http://docs.scipy.org/doc/scipy/reference/generated/scipy.linalg.inv.html) somewhere in your code, it should ring a bell. Explicit matrix inverses can almost always be avoided. And they should be avoided ! Here's how"
     ]
    },
    {
     "cell_type": "markdown",
     "metadata": {},
     "source": [
      "# Synthetic example"
     ]
    },
    {
     "cell_type": "code",
     "collapsed": false,
     "input": [
      "from sklearn import linear_model, datasets\n",
      "A, b, coef = datasets.make_regression(n_samples=1000, n_features=1,\n",
      "                                      n_informative=1, noise=10,\n",
      "                                      coef=True, random_state=0)\n",
      "plt.plot(A[:,0], b, '.')"
     ],
     "language": "python",
     "metadata": {},
     "outputs": [
      {
       "metadata": {},
       "output_type": "pyout",
       "prompt_number": 1,
       "text": [
        "[<matplotlib.lines.Line2D at 0x107deef90>]"
       ]
      },
      {
       "metadata": {},
       "output_type": "display_data",
       "png": "[encoded data removed]",
       "text": [
        "<matplotlib.figure.Figure at 0x106105050>"
       ]
      }
     ],
     "prompt_number": 1
    },
    {
     "cell_type": "code",
     "collapsed": false,
     "input": [
      "print coef"
     ],
     "language": "python",
     "metadata": {},
     "outputs": [
      {
       "output_type": "stream",
       "stream": "stdout",
       "text": [
        "82.1903908408\n"
       ]
      }
     ],
     "prompt_number": 2
    },
    {
     "cell_type": "markdown",
     "metadata": {},
     "source": [
      "# Normal equations\n",
      "\n",
      "The solution to the least-squares problem can be found through the direct application of the normal equations:\n",
      "\\begin{align*}\n",
      "\\mathbf{A}^\\top\\mathbf{A}\\mathbf{x} = \\mathbf{A}^\\top\\mathbf{b} \\\\\n",
      "\\mathbf{x} = (\\mathbf{A}^\\top\\mathbf{A})^{-1}\\mathbf{A}^\\top\\mathbf{b}\n",
      "\\end{align*}\n",
      "\n",
      "where $\\mathbf{A}^\\top\\mathbf{A}$ is symmetric. Let's try it:"
     ]
    },
    {
     "cell_type": "code",
     "collapsed": false,
     "input": [
      "coef_inv = np.linalg.inv(A.T.dot(A)).dot(A.T).dot(b)"
     ],
     "language": "python",
     "metadata": {},
     "outputs": [],
     "prompt_number": 3
    },
    {
     "cell_type": "code",
     "collapsed": false,
     "input": [
      "print coef_inv"
     ],
     "language": "python",
     "metadata": {},
     "outputs": [
      {
       "output_type": "stream",
       "stream": "stdout",
       "text": [
        "[ 82.11934255]\n"
       ]
      }
     ],
     "prompt_number": 4
    },
    {
     "cell_type": "markdown",
     "metadata": {},
     "source": [
      "But does it mean that you should compute the inverse directly ? <font color='red'>No !</font> Although the inverse appears in the normal equations, we can avoid computing it. This is almost always the case in matrix computations. It is not only computationally costly, it is also numerically unstable !"
     ]
    },
    {
     "cell_type": "markdown",
     "metadata": {},
     "source": [
      "# QR factorization\n",
      "\n",
      "Given the QR factorization of our design matrix, we can find the least-squares solution as follow:\n",
      "\\begin{align*}\n",
      "\\mathbf{A}\\mathbf{x} = \\mathbf{b} \\\\\n",
      "(\\mathbf{Q}\\mathbf{R})\\mathbf{x} = \\mathbf{b} \\\\\n",
      "\\mathbf{Q}^\\top\\mathbf{Q}\\mathbf{R}\\mathbf{x} = \\mathbf{Q}^\\top\\mathbf{b} \\\\\n",
      "\\mathbf{R}\\mathbf{x} = \\mathbf{Q}^\\top\\mathbf{b}\n",
      "\\end{align*}\n",
      "\n",
      "where the last line follows from the fact that $\\mathbf{Q}$ is othogonal. Since $\\mathbf{R}$ is triangular, we can efficiently solve the last system of equations through backward substitution:"
     ]
    },
    {
     "cell_type": "code",
     "collapsed": false,
     "input": [
      "from scipy.linalg import solve_triangular\n",
      "Q,R = np.linalg.qr(A)\n",
      "solve_triangular(R, Q.T.dot(b))"
     ],
     "language": "python",
     "metadata": {},
     "outputs": [
      {
       "metadata": {},
       "output_type": "pyout",
       "prompt_number": 5,
       "text": [
        "array([ 82.11934255])"
       ]
      }
     ],
     "prompt_number": 5
    },
    {
     "cell_type": "markdown",
     "metadata": {},
     "source": [
      "The complexity of QR is $\\frac{2}{3}n^3+n^2+\\frac{1}{3}n-2=O(n^3)$"
     ]
    },
    {
     "cell_type": "markdown",
     "metadata": {},
     "source": [
      "# SVD factorization\n",
      "\n",
      "What if the inverse of $\\mathbf{A}$ does not exist (not a square matrix for example) ? We can instead take the pseudo-inverse $\\mathbf{A}^+$ through the [SVD decomposition](http://www.cis.upenn.edu/~cis610/cis61009sl10.pdf):\n",
      "\n",
      "\\begin{equation}\n",
      "\\mathbf{A} = \\mathbf{U}\\mathbf{D}\\mathbf{V}^\\top\n",
      "\\end{equation}\n",
      "\n",
      "The pseudo-inverse is then given as:\n",
      "\\begin{equation}\n",
      "\\mathbf{A}^+ = \\mathbf{U}\\mathbf{D}^+\\mathbf{V}^\\top\n",
      "\\end{equation}\n",
      "\n",
      "The matrix $\\mathbf{D}^+$ is a diagonal matrix of the inverses of the singular values of $\\mathbf{A}$ of rank $r$:\n",
      "\\begin{equation}\n",
      "\\mathbf{D}^+ = \\mbox{diag}(1/\\lambda_1, ..., 1/\\lambda_r,..., 0, 0)\n",
      "\\end{equation}\n",
      "\n",
      "Note that the singular values of $\\mathbf{A}$ are the eigenvalues of $\\mathbf{A}^\\top\\mathbf{A}$. It can be shown that the least-squares solution can be obtained through:\n",
      "\\begin{equation}\n",
      "\\mathbf{x}^+ = \\mathbf{A}^+\\mathbf{b}\n",
      "\\end{equation}"
     ]
    },
    {
     "cell_type": "code",
     "collapsed": false,
     "input": [
      "U, s, Vt = np.linalg.svd(A, full_matrices=False)\n",
      "Apinv = U.dot(np.diag(1./s)).dot(Vt)\n",
      "print Apinv.T.dot(b)"
     ],
     "language": "python",
     "metadata": {},
     "outputs": [
      {
       "output_type": "stream",
       "stream": "stdout",
       "text": [
        "[ 82.11934255]\n"
       ]
      }
     ],
     "prompt_number": 6
    },
    {
     "cell_type": "markdown",
     "metadata": {},
     "source": [
      "# Standard numpy functions"
     ]
    },
    {
     "cell_type": "markdown",
     "metadata": {},
     "source": [
      "If $\\mathbf{A}$ is full-rank, calling [numpy.linalg.solve (http://docs.scipy.org/doc/numpy/reference/generated/numpy.linalg.solve.html) will invoke  the LAPACK routine gesv which according to [cvxopt](http://cvxopt.org/userguide/lapack.html) uses the LU factorization."
     ]
    },
    {
     "cell_type": "code",
     "collapsed": false,
     "input": [
      "np.linalg.solve(A.T.dot(A), A.T.dot(b))"
     ],
     "language": "python",
     "metadata": {},
     "outputs": [
      {
       "metadata": {},
       "output_type": "pyout",
       "prompt_number": 7,
       "text": [
        "array([ 82.11934255])"
       ]
      }
     ],
     "prompt_number": 7
    },
    {
     "cell_type": "markdown",
     "metadata": {},
     "source": [
      "Looking at the [source code](https://github.com/numpy/numpy/blob/v1.8.1/numpy/linalg/linalg.py#L1733) for [numpy.linalg.lstq](http://docs.scipy.org/doc/numpy/reference/generated/numpy.linalg.lstsq.html), we see that the LAPACK function dgelsd is being invoked under the hood. The dgelsd function is based on the SVD method that we have seen above."
     ]
    },
    {
     "cell_type": "code",
     "collapsed": false,
     "input": [
      "np.linalg.lstsq(A, b)[0]"
     ],
     "language": "python",
     "metadata": {},
     "outputs": [
      {
       "metadata": {},
       "output_type": "pyout",
       "prompt_number": 8,
       "text": [
        "array([ 82.11934255])"
       ]
      }
     ],
     "prompt_number": 8
    }
   ],
   "metadata": {}
  }
 ]
}
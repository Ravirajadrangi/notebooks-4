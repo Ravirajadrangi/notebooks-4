{
 "metadata": {
  "name": ""
 },
 "nbformat": 3,
 "nbformat_minor": 0,
 "worksheets": [
  {
   "cells": [
    {
     "cell_type": "markdown",
     "metadata": {},
     "source": [
      "## Random number generation\n",
      "\n",
      "In order to generate samples from some discrete probability distribution, we will implement a rejection sampling procedure."
     ]
    },
    {
     "cell_type": "code",
     "collapsed": false,
     "input": [
      "from scipy.stats import bernoulli\n",
      "from scipy.linalg import hankel\n",
      "\n",
      "def rejection_sampling(pmf):\n",
      "    while True:\n",
      "        T = np.random.randint(0, len(pmf))\n",
      "        u = np.random.rand()\n",
      "        M = np.max(pmf)\n",
      "        if M*u <= pmf[T]:\n",
      "            return T\n",
      "        "
     ],
     "language": "python",
     "metadata": {},
     "outputs": [],
     "prompt_number": 1
    },
    {
     "cell_type": "markdown",
     "metadata": {},
     "source": [
      "## Phase-Type distribution\n",
      "\n",
      "A discrete phase-type distribution is determined by an initial probability vector $\\pi$ and a transition matrix $\\mathbf{T}$ between the transient states. We recover the full transition matrix $\\mathbf{P}$ as follow\n",
      "\n",
      "\\begin{equation}\n",
      "\\mathbf{P} = \\begin{bmatrix} \\mathbf{T} & \\mathbf{t_0} \\\\ \\mathbf{0} & 1 \\end{bmatrix}\n",
      "\\end{equation}\n",
      "\n",
      "The vector $\\mathbf{t_0}$ contains the absorption probabilies and can be obtained from $\\mathbf{T} + \\mathbf{T_0} = \\mathbf{1}$."
     ]
    },
    {
     "cell_type": "code",
     "collapsed": false,
     "input": [
      "def sample_ph(pi, T, symbol):\n",
      "    n = len(T)\n",
      "    T0 = 1 - np.sum(T, axis=1)\n",
      "    P = np.zeros((n+1, n+1))\n",
      "    P[:n, :n] = T\n",
      "    P[:-1, -1] = T0\n",
      "    P[-1, -1] = 1\n",
      "\n",
      "    state = rejection_sampling(pi)\n",
      "    while state is not n:\n",
      "        yield state, symbol\n",
      "        state = rejection_sampling(P[state])"
     ],
     "language": "python",
     "metadata": {},
     "outputs": [],
     "prompt_number": 2
    },
    {
     "cell_type": "markdown",
     "metadata": {},
     "source": [
      "## Building the Hankel Matrix\n",
      "\n",
      "It was shown in Balle et al. (2013) if $f$ is realized by some WA, then so are $f_p$, $f_s$ - the prefix and substring functions. The special type of automata that we consider is defined over only one symbol $\\Sigma = \\{\\sigma\\}$. This implies that the induced Hankel matrix must be symmetric; this property would otherwise be unsatisfied under string concatenation and multi-alphabets. "
     ]
    },
    {
     "cell_type": "code",
     "collapsed": false,
     "input": [
      "# Samples\n",
      "nsamples = 50000\n",
      "pi = [0.9, 0.1]\n",
      "T = [[0.2, 0.8], [0.8, 0.1]]\n",
      "S = [len(list(sample_ph(pi, T, 'a'))) for i in range(nsamples)]\n",
      "\n",
      "print 'Mean: ', np.mean(S)\n",
      "\n",
      "# Build the Hankel matrix\n",
      "h = np.zeros(np.max(S)+1)\n",
      "for x in S:\n",
      "    h[x] += 1\n",
      "    \n",
      "plt.hist(range(len(h)), weights=h)\n",
      "plt.show()\n",
      "\n",
      "h = h/len(S)\n",
      "H = hankel(h)\n",
      "print H"
     ],
     "language": "python",
     "metadata": {},
     "outputs": [
      {
       "output_type": "stream",
       "stream": "stdout",
       "text": [
        "Mean:  21.03396\n"
       ]
      },
      {
       "metadata": {},
       "output_type": "display_data",
       "png": "[encoded data removed]",
       "text": [
        "<matplotlib.figure.Figure at 0x1056cd6d0>"
       ]
      },
      {
       "output_type": "stream",
       "stream": "stdout",
       "text": [
        "[[  0.00000000e+00   1.00400000e-02   7.40800000e-02 ...,   0.00000000e+00\n",
        "    0.00000000e+00   2.00000000e-05]\n",
        " [  1.00400000e-02   7.40800000e-02   2.83000000e-02 ...,   0.00000000e+00\n",
        "    2.00000000e-05   0.00000000e+00]\n",
        " [  7.40800000e-02   2.83000000e-02   5.30000000e-02 ...,   2.00000000e-05\n",
        "    0.00000000e+00   0.00000000e+00]\n",
        " ..., \n",
        " [  0.00000000e+00   0.00000000e+00   2.00000000e-05 ...,   0.00000000e+00\n",
        "    0.00000000e+00   0.00000000e+00]\n",
        " [  0.00000000e+00   2.00000000e-05   0.00000000e+00 ...,   0.00000000e+00\n",
        "    0.00000000e+00   0.00000000e+00]\n",
        " [  2.00000000e-05   0.00000000e+00   0.00000000e+00 ...,   0.00000000e+00\n",
        "    0.00000000e+00   0.00000000e+00]]\n"
       ]
      }
     ],
     "prompt_number": 3
    },
    {
     "cell_type": "markdown",
     "metadata": {},
     "source": [
      "## Spectral Learning\n",
      "\n",
      "A WFA $A = \\langle \\mathbf{\\alpha}_0, \\mathbf{\\alpha}_\\infty, {\\mathbf{A}_\\sigma}\\rangle$ for a function $f$ and $n$ states induces a factorization of $\\mathbf{H}_f = \\mathbf{P} \\mathbf{S}$ and its sub-blocks $\\mathbf{H}_\\mathcal{B}$ for an arbitrary basis $\\mathcal{B}=(\\mathcal{P}, \\mathcal{S})$. If $A$ is minimal for $f$, then the factorization of $\\mathbf{H}_f$ is rank factorization with both $\\mathbf{P}$ and $\\mathbf{S}$ of the same rank. \n",
      "\n",
      "\\begin{align}\n",
      "\\mathbf{\\alpha}_0^\\top &= \\mathbf{h}_{\\lambda, \\mathcal{S}}^\\top \\mathbf{S}^+ \\\\\n",
      "\\mathbf{\\alpha}_\\infty &= \\mathbf{P}^+\\mathbf{h}_{\\mathcal{P},\\lambda} \\\\\n",
      "\\mathbf{A}_\\sigma &= \\mathbf{P}^+\\mathbf{H}_\\sigma \\mathbf{S}^+\n",
      "\\end{align}\n",
      "\n",
      "A rank factorization can be obtained through the compact SVD decomposition $\\mathbf{H}_\\lambda = \\mathbf{U}\\mathbf{\\Lambda}\\mathbf{V}^\\top$ with $\\mathbf{U} \\in \\mathbb{R}^{p \\times r}$, $\\mathbf{\\Lambda} \\in \\mathbb{R}^{r \\times r}$ and $\\mathbf{V} \\in \\mathbb{R}^{s \\times r}$. The above factorization can then be expressed as \n",
      "\\begin{align}\n",
      "\\mathbf{\\alpha}_0^\\top &= \\mathbf{h}_{\\lambda, \\mathcal{S}}^\\top \\mathbf{V}\\\\\n",
      "\\mathbf{\\alpha}_\\infty &= \\mathbf{\\Lambda^{-1}}\\mathbf{U}^\\top\\mathbf{h}_{\\mathcal{P},\\lambda} \\\\\n",
      "\\mathbf{A}_\\sigma &= \\mathbf{\\Lambda^{-1}}\\mathbf{U}^\\top \\mathbf{H_\\sigma}\\mathbf{V}\n",
      "\\end{align}"
     ]
    },
    {
     "cell_type": "code",
     "collapsed": false,
     "input": [
      "from scipy.linalg import svd, inv, diagsvd\n",
      "\n",
      "U, L, V = svd(H, full_matrices=False)\n",
      "linv_ut = inv(diagsvd(L,*H.shape)).dot(U.T)\n",
      "\n",
      "alpha0 = V.dot(h)\n",
      "alphainf = linv_ut.dot(h)\n",
      "Asigma = linv_ut.dot(H).dot(V)"
     ],
     "language": "python",
     "metadata": {},
     "outputs": [],
     "prompt_number": 4
    },
    {
     "cell_type": "markdown",
     "metadata": {},
     "source": [
      "## Evaluation\n",
      "\n",
      "A weighted automaton $A$ computes a function $f_A: \\sigma^* \\to \\mathbb{R}$ through the application of the initial, transition and termination components\n",
      "\n",
      "\\begin{align}\n",
      "f_A(x_1, ..., x_t) = \\mathbf{\\alpha}_0^\\top \\mathbf{A}_{x_1} ... \\mathbf{A}_{x_t} \\mathbf{\\alpha}_\\infty\n",
      "\\end{align}\n",
      "\n",
      "Our model for the phase-type distribution can now used to infer the probability of a given duration $\\tau$ by computing $\\tau$ matrix-vector multiplications. \n",
      "\\begin{align}\n",
      "f(\\tau) = f_A(\\sigma_1, ..., \\sigma_\\tau) = \\mathbf{\\alpha}_0^\\top \\mathbf{A}_{\\sigma}^\\tau \\mathbf{\\alpha}_\\infty\n",
      "\\end{align}\n",
      "\n",
      "The time complexity of a time query is therefore a function of $\\tau$. "
     ]
    },
    {
     "cell_type": "code",
     "collapsed": false,
     "input": [
      "def evaluate(alpha0, alphainf, Asigma, tau):\n",
      "    w = alphainf\n",
      "    for i in range(tau):\n",
      "        w = Asigma.dot(w)\n",
      "    return alpha0.dot(w)\n",
      "\n",
      "probs = [evaluate(alpha0, alphainf, Asigma, t) for t in range(100)]\n",
      "print np.argmax(probs), np.max(probs)"
     ],
     "language": "python",
     "metadata": {},
     "outputs": [
      {
       "output_type": "stream",
       "stream": "stdout",
       "text": [
        "94 0.0527621158151\n"
       ]
      }
     ],
     "prompt_number": 5
    }
   ],
   "metadata": {}
  }
 ]
}
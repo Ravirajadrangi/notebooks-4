{
 "metadata": {
  "name": ""
 },
 "nbformat": 3,
 "nbformat_minor": 0,
 "worksheets": [
  {
   "cells": [
    {
     "cell_type": "markdown",
     "metadata": {},
     "source": [
      "## Phase-Type distribution\n",
      "\n",
      "A discrete phase-type distribution is determined by an initial probability vector $\\pi$ and a transition matrix $\\mathbf{T}$ between the transient states. We recover the full transition matrix $\\mathbf{P}$ as follow\n",
      "\n",
      "\\begin{equation}\n",
      "\\mathbf{P} = \\begin{bmatrix} \\mathbf{T} & \\mathbf{t_0} \\\\ \\mathbf{0} & 1 \\end{bmatrix}\n",
      "\\end{equation}\n",
      "\n",
      "The vector $\\mathbf{t_0}$ contains the absorption probabilies and can be obtained from $\\mathbf{T} + \\mathbf{T_0} = \\mathbf{1}$."
     ]
    },
    {
     "cell_type": "code",
     "collapsed": false,
     "input": [
      "from scipy.linalg import hankel\n",
      "\n",
      "alphainf = np.array([0, 0, 0, 1])\n",
      "alpha0 = np.array([0.5, 0.5, 0, 0])\n",
      "A = np.array([[0, 0.5, 0.5, 0], [0, 0.9, 0, 0.1],\n",
      "              [0.6, 0, 0, 0.4], [0, 0, 0, 0]])\n",
      "\n",
      "def evaluate(alpha0, A, alphainf, t=1):\n",
      "    return np.dot(alpha0, np.dot(np.linalg.matrix_power(A, t), alphainf))\n",
      "\n",
      "T = 100\n",
      "h = np.array([evaluate(alpha0, A, alphainf, t) for t in range(T)])\n",
      "H = hankel(h)\n",
      "H = H[:T/2, :T/2]\n",
      "#print H"
     ],
     "language": "python",
     "metadata": {},
     "outputs": [],
     "prompt_number": 12
    },
    {
     "cell_type": "markdown",
     "metadata": {},
     "source": [
      "## Spectral Learning\n",
      "\n",
      "A WFA $A = \\langle \\mathbf{\\alpha}_0, \\mathbf{\\alpha}_\\infty, {\\mathbf{A}_\\sigma}\\rangle$ for a function $f$ and $n$ states induces a factorization of $\\mathbf{H}_f = \\mathbf{P} \\mathbf{S}$ and its sub-blocks $\\mathbf{H}_\\mathcal{B}$ for an arbitrary basis $\\mathcal{B}=(\\mathcal{P}, \\mathcal{S})$. If $A$ is minimal for $f$, then the factorization of $\\mathbf{H}_f$ is rank factorization with both $\\mathbf{P}$ and $\\mathbf{S}$ of the same rank. A rank factorization can be obtained through the compact SVD decomposition $\\mathbf{H}_\\lambda = \\mathbf{U}\\mathbf{\\Lambda}\\mathbf{V}^\\top$ with $\\mathbf{U} \\in \\mathbb{R}^{p \\times r}$, $\\mathbf{\\Lambda} \\in \\mathbb{R}^{r \\times r}$ and $\\mathbf{V} \\in \\mathbb{R}^{s \\times r}$. The above factorization can then be expressed as \n",
      "\\begin{align}\n",
      "\\mathbf{\\alpha}_0^\\top &= \\mathbf{h}_{\\lambda, \\mathcal{S}}^\\top \\mathbf{V}\\\\\n",
      "\\mathbf{\\alpha}_\\infty &= \\mathbf{\\Lambda^{-1}}\\mathbf{U}^\\top\\mathbf{h}_{\\mathcal{P},\\lambda} \\\\\n",
      "\\mathbf{A}_\\sigma &= \\mathbf{\\Lambda^{-1}}\\mathbf{U}^\\top \\mathbf{H_\\sigma}\\mathbf{V}\n",
      "\\end{align}"
     ]
    },
    {
     "cell_type": "code",
     "collapsed": false,
     "input": [
      "from numpy.linalg import svd, inv\n",
      "from scipy.linalg import diagsvd\n",
      "\n",
      "k = 4\n",
      "Hsigma = H[1:,:]\n",
      "H = H[:-1,:]\n",
      "U, D, V = svd(H, full_matrices=False)\n",
      "U, D, V = U[:,:k], diagsvd(D[:k], k, k), V[:k,:]\n",
      "Dinv_ut = inv(D).dot(U.T)\n",
      "\n",
      "beta0 = np.dot(H[0,:], V.T)\n",
      "betainf = Dinv_ut.dot(H[:,0])\n",
      "betasigma = np.dot(Dinv_ut, np.dot(Hsigma, V.T))"
     ],
     "language": "python",
     "metadata": {},
     "outputs": [],
     "prompt_number": 13
    },
    {
     "cell_type": "markdown",
     "metadata": {},
     "source": [
      "## Evaluation\n",
      "\n",
      "A weighted automaton $A$ computes a function $f_A: \\sigma^* \\to \\mathbb{R}$ through the application of the initial, transition and termination components\n",
      "\n",
      "\\begin{align}\n",
      "f_A(x_1, ..., x_t) = \\mathbf{\\alpha}_0^\\top \\mathbf{A}_{x_1} ... \\mathbf{A}_{x_t} \\mathbf{\\alpha}_\\infty\n",
      "\\end{align}\n",
      "\n",
      "Our model for the phase-type distribution can now used to infer the probability of a given duration $\\tau$ by computing $\\tau$ matrix-vector multiplications. \n",
      "\\begin{align}\n",
      "f(\\tau) = f_A(\\sigma_1, ..., \\sigma_\\tau) = \\mathbf{\\alpha}_0^\\top \\mathbf{A}_{\\sigma}^\\tau \\mathbf{\\alpha}_\\infty\n",
      "\\end{align}\n",
      "\n",
      "The time complexity of a time query is therefore a function of $\\tau$. "
     ]
    },
    {
     "cell_type": "code",
     "collapsed": false,
     "input": [
      "print 'Factorized: ', np.array([evaluate(beta0, betasigma, betainf, t) \n",
      "                                for t in range(T)])\n",
      "print '\\nOriginal: ', h"
     ],
     "language": "python",
     "metadata": {},
     "outputs": [
      {
       "output_type": "stream",
       "stream": "stdout",
       "text": [
        "Factorized:  [ -8.36461976e-17   5.00000000e-02   1.70000000e-01   6.30000000e-02\n",
        "   9.42000000e-02   5.77800000e-02   6.32520000e-02   4.88268000e-02\n",
        "   4.73191200e-02   4.01572080e-02   3.71539872e-02   3.27095885e-02\n",
        "   2.97423796e-02   2.65494417e-02   2.39856225e-02   2.15214503e-02\n",
        "   1.93966427e-02   1.74372955e-02   1.57017672e-02   1.41256855e-02\n",
        "   1.27155774e-02   1.14422482e-02   1.02987615e-02   9.26835387e-03\n",
        "   8.34173991e-03   7.50740649e-03   6.75673227e-03   6.08101121e-03\n",
        "   5.47293002e-03   4.92562267e-03   4.43306638e-03   3.98975544e-03\n",
        "   3.59078169e-03   3.23170223e-03   2.90853254e-03   2.61767890e-03\n",
        "   2.35591117e-03   2.12031994e-03   1.90828799e-03   1.71745916e-03\n",
        "   1.54571326e-03   1.39114192e-03   1.25202773e-03   1.12682496e-03\n",
        "   1.01414246e-03   9.12728216e-04   8.21455395e-04   7.39309855e-04\n",
        "   6.65378870e-04   5.98840983e-04   5.38956884e-04   4.85061196e-04\n",
        "   4.36555076e-04   3.92899569e-04   3.53609612e-04   3.18248651e-04\n",
        "   2.86423786e-04   2.57781407e-04   2.32003266e-04   2.08802940e-04\n",
        "   1.87922646e-04   1.69130381e-04   1.52217343e-04   1.36995609e-04\n",
        "   1.23296048e-04   1.10966443e-04   9.98697988e-05   8.98828189e-05\n",
        "   8.08945370e-05   7.28050833e-05   6.55245750e-05   5.89721175e-05\n",
        "   5.30749057e-05   4.77674152e-05   4.29906736e-05   3.86916063e-05\n",
        "   3.48224457e-05   3.13402011e-05   2.82061810e-05   2.53855629e-05\n",
        "   2.28470066e-05   2.05623059e-05   1.85060753e-05   1.66554678e-05\n",
        "   1.49899210e-05   1.34909289e-05   1.21418360e-05   1.09276524e-05\n",
        "   9.83488718e-06   8.85139847e-06   7.96625862e-06   7.16963276e-06\n",
        "   6.45266948e-06   5.80740253e-06   5.22666228e-06   4.70399605e-06\n",
        "   4.23359645e-06   3.81023680e-06   3.42921312e-06   3.08629181e-06]\n",
        "\n",
        "Original:  [  0.00000000e+00   5.00000000e-02   1.70000000e-01   6.30000000e-02\n",
        "   9.42000000e-02   5.77800000e-02   6.32520000e-02   4.88268000e-02\n",
        "   4.73191200e-02   4.01572080e-02   3.71539872e-02   3.27095885e-02\n",
        "   2.97423796e-02   2.65494417e-02   2.39856225e-02   2.15214503e-02\n",
        "   1.93966427e-02   1.74372955e-02   1.57017672e-02   1.41256855e-02\n",
        "   1.27155774e-02   1.14422482e-02   1.02987615e-02   9.26835387e-03\n",
        "   8.34173991e-03   7.50740649e-03   6.75673227e-03   6.08101121e-03\n",
        "   5.47293002e-03   4.92562267e-03   4.43306638e-03   3.98975544e-03\n",
        "   3.59078169e-03   3.23170223e-03   2.90853254e-03   2.61767890e-03\n",
        "   2.35591117e-03   2.12031994e-03   1.90828799e-03   1.71745916e-03\n",
        "   1.54571326e-03   1.39114192e-03   1.25202773e-03   1.12682496e-03\n",
        "   1.01414246e-03   9.12728216e-04   8.21455395e-04   7.39309855e-04\n",
        "   6.65378870e-04   5.98840983e-04   5.38956884e-04   4.85061196e-04\n",
        "   4.36555076e-04   3.92899569e-04   3.53609612e-04   3.18248651e-04\n",
        "   2.86423786e-04   2.57781407e-04   2.32003266e-04   2.08802940e-04\n",
        "   1.87922646e-04   1.69130381e-04   1.52217343e-04   1.36995609e-04\n",
        "   1.23296048e-04   1.10966443e-04   9.98697988e-05   8.98828189e-05\n",
        "   8.08945370e-05   7.28050833e-05   6.55245750e-05   5.89721175e-05\n",
        "   5.30749057e-05   4.77674152e-05   4.29906736e-05   3.86916063e-05\n",
        "   3.48224457e-05   3.13402011e-05   2.82061810e-05   2.53855629e-05\n",
        "   2.28470066e-05   2.05623059e-05   1.85060753e-05   1.66554678e-05\n",
        "   1.49899210e-05   1.34909289e-05   1.21418360e-05   1.09276524e-05\n",
        "   9.83488718e-06   8.85139847e-06   7.96625862e-06   7.16963276e-06\n",
        "   6.45266948e-06   5.80740253e-06   5.22666228e-06   4.70399605e-06\n",
        "   4.23359645e-06   3.81023680e-06   3.42921312e-06   3.08629181e-06]\n"
       ]
      }
     ],
     "prompt_number": 14
    }
   ],
   "metadata": {}
  }
 ]
}
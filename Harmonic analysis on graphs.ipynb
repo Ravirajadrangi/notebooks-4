{
 "metadata": {
  "name": "",
  "signature": "sha256:2ca5e6355da84e1ef3258b179c13556178e0c421fb76ba1511708d941300a06b"
 },
 "nbformat": 3,
 "nbformat_minor": 0,
 "worksheets": [
  {
   "cells": [
    {
     "cell_type": "code",
     "collapsed": false,
     "input": [
      "import numpy as np\n",
      "import networkx as nx"
     ],
     "language": "python",
     "metadata": {},
     "outputs": [],
     "prompt_number": 15
    },
    {
     "cell_type": "code",
     "collapsed": false,
     "input": [
      "def random_function(n):\n",
      "    return np.random.normal(size=n)"
     ],
     "language": "python",
     "metadata": {},
     "outputs": [],
     "prompt_number": 16
    },
    {
     "cell_type": "code",
     "collapsed": false,
     "input": [
      "n = 25\n",
      "f = random_function(n)\n",
      "G = nx.watts_strogatz_graph(n, k=2, p=0.66)\n",
      "nx.draw(G, node_color=f)\n",
      "print 'Connected: ', nx.is_connected(G)"
     ],
     "language": "python",
     "metadata": {},
     "outputs": [
      {
       "output_type": "stream",
       "stream": "stdout",
       "text": [
        "Connected:  True\n"
       ]
      },
      {
       "metadata": {},
       "output_type": "display_data",
       "png": "[encoded data removed]",
       "text": [
        "<matplotlib.figure.Figure at 0x106b5df90>"
       ]
      }
     ],
     "prompt_number": 17
    },
    {
     "cell_type": "code",
     "collapsed": false,
     "input": [
      "A = np.asarray(nx.to_numpy_matrix(G))\n",
      "D = np.identity(A.shape[0])*np.sum(A,axis=1)\n",
      "L = D - A"
     ],
     "language": "python",
     "metadata": {},
     "outputs": [],
     "prompt_number": 18
    },
    {
     "cell_type": "markdown",
     "metadata": {},
     "source": [
      "# Graph Fourier transform\n",
      "\n",
      "The graph Laplacian is a real symmetric matrix with a complete set of orthonormal eigenvectors denoted below as $\\chi_l$ with associated eigenvalue $\\lambda_l$. For $l = 0, ..., N-1$, we have\n",
      "\n",
      "\\begin{equation}\n",
      "\\mathcal{L}\\chi_l = \\lambda_l \\chi_l\n",
      "\\end{equation}\n",
      "\n",
      "The graph fourier transform of some function $f \\in \\mathbb{R}^{N}$ defined over the vertices of $G$ is defined as \n",
      "\\begin{equation}\n",
      "\\hat{f}(l)= \\langle \\chi_l, f \\rangle = \\sum_{n=1}^N \\chi_l(n)f(n)\n",
      "\\end{equation}"
     ]
    },
    {
     "cell_type": "code",
     "collapsed": false,
     "input": [
      "def fourier_transform(G,f):\n",
      "    A = np.asarray(nx.to_numpy_matrix(G))\n",
      "    D = np.identity(A.shape[0])*np.sum(A,axis=1)\n",
      "    L = D - A\n",
      "\n",
      "    l,X = np.linalg.eig(L)\n",
      "    idx = l.argsort()\n",
      "    l = l[idx]\n",
      "    X = X[:,idx]\n",
      "    \n",
      "    return X.T.dot(f), X"
     ],
     "language": "python",
     "metadata": {},
     "outputs": [],
     "prompt_number": 19
    },
    {
     "cell_type": "markdown",
     "metadata": {},
     "source": [
      "The inverse Fourier transform then becomes\n",
      "\\begin{equation}\n",
      "f(n) = \\sum_{l=0}^{N-1} \\hat{f}(l)\\chi_l(n)\n",
      "\\end{equation}"
     ]
    },
    {
     "cell_type": "code",
     "collapsed": false,
     "input": [
      "def inverse_fourier_transform(fhat, X=None):\n",
      "    return X.T.dot(fhat)"
     ],
     "language": "python",
     "metadata": {},
     "outputs": [],
     "prompt_number": 20
    },
    {
     "cell_type": "markdown",
     "metadata": {},
     "source": [
      "We can verify that Parseval's theorem hold \n",
      "\\begin{equation}\n",
      "\\langle f, h \\rangle = \\langle \\hat{f}, \\hat{h} \\rangle\n",
      "\\end{equation}"
     ]
    },
    {
     "cell_type": "code",
     "collapsed": false,
     "input": [
      "f = random_function(n)\n",
      "g = random_function(n)\n",
      "\n",
      "print f.dot(g)\n",
      "print fourier_transform(G, f)[0].dot(fourier_transform(G,g)[0])"
     ],
     "language": "python",
     "metadata": {},
     "outputs": [
      {
       "output_type": "stream",
       "stream": "stdout",
       "text": [
        "0.735377995262\n",
        "0.509649534843\n"
       ]
      }
     ],
     "prompt_number": 21
    }
   ],
   "metadata": {}
  }
 ]
}